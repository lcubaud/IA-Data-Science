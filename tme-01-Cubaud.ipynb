{
 "cells": [
  {
   "cell_type": "markdown",
   "metadata": {},
   "source": [
    "IA & Data science (LU3IN0226) -- 2019-2020\n",
    "--------\n",
    "*&copy; Equipe pédagogique: Gauvain Bourgne, Vincent Guigue, Marie-Jeanne Lesot, Christophe Marsala, Olivier Schwander.*"
   ]
  },
  {
   "cell_type": "markdown",
   "metadata": {},
   "source": [
    "# TD-TME01: structures de données\n",
    "\n",
    "L'objectif du TME est de se familiariser avec les structures de données utilisées pour les manipulations des données dans cette UE et d'implémenter les mesures vues en cours: moyenne, médiane, quartiles, corrélations. \n",
    "\n"
   ]
  },
  {
   "cell_type": "markdown",
   "metadata": {},
   "source": [
    "<font size=\"+1\" color=\"RED\">**[Q]**</font> **Indiquer dans la boîte ci-dessous vos noms et prénoms :**"
   ]
  },
  {
   "cell_type": "markdown",
   "metadata": {},
   "source": [
    "CUBAUD Lucie"
   ]
  },
  {
   "cell_type": "markdown",
   "metadata": {},
   "source": [
    "<font color=\"RED\" size=\"+1\">**[Q]**</font> **Renommer ce fichier ipython**\n",
    "\n",
    "Tout en haut de cette page, cliquer sur <tt>tme-01</tt> et rajouter à la suite de <tt>tme-01</tt> les noms des membres du binômes séparés par un tiret.\n",
    "\n",
    "Par exemple, pour le binôme Luke Skywalker et Han Solo, le nom de fichier devient : <pre>tme-01-Skywalker-Solo</pre>\n",
    "\n",
    "Penser à sauvegarder fréquemment le fichier en cours de travail :\n",
    "- soit en cliquant sur l'icône \"disquette\"\n",
    "- soit par la combinaison de touches [Ctrl]-S"
   ]
  },
  {
   "cell_type": "markdown",
   "metadata": {},
   "source": [
    "<font color=\"RED\" size=\"+1\">IMPORTANT: soumission de votre fichier final</font>\n",
    "\n",
    "**Nom à donner au fichier à poster** : *Nom1_Nom2.ipynb* \n",
    "- *Nom1* et *Nom2* : noms des membres du binôme\n",
    "- ne pas compresser ou faire une archive: il faut rendre le fichier ipython tel quel, éventuellement, si vous avez d'autres fichiers vous les rendez séparément.\n",
    "\n",
    "**Echancier pour la soumission de votre compte-rendu:**\n",
    "- le compte-rendu d'une séance doit être remis obligatoirement <font color=\"RED\">** à la fin de la séance**</font>. C'est ce compte-rendu qui donne la note de base de la séance.\n",
    "- vous pouvez éventuellement compléter votre compte-rendu  pour obtenir des points bonus, dans ce cas, vous devez soumettre votre complément avant le début de la semaine suivante.\n",
    "\n",
    "** Sur la page Moodle de remise du travail <font color=\"RED\">ne pas oublier d'envoyer le compte rendu</font>** à la fin de la séance, la soumission de la version complémentaire post-séance se fera sur une page différente."
   ]
  },
  {
   "cell_type": "markdown",
   "metadata": {},
   "source": [
    "## Présentation ##\n",
    "\n",
    "### Objectifs de ce TME 1\n",
    "\n",
    "Le travail à réaliser est le suivant :\n",
    "- apprendre à utiliser jupyter notebook\n",
    "- se documenter sur les structures de données qui seront utilisées pour programmer tout au long du semestre\n",
    "- implémenter des fonctions pour les mesures vues en cours "
   ]
  },
  {
   "cell_type": "markdown",
   "metadata": {},
   "source": [
    "## Apprendre à utiliser jupyter notebook\n",
    "\n",
    "Ce document est dynamique: il est composé de \"boîtes\" qui peuvent être \"compilées\" par la commande \"Run Cells\" du menu \"Cell\" (ou bien en cliquant sur l'icône >| ou par la combinaison des touches [SHIFT][ENTREE]).\n",
    "\n",
    "Il y a **2 types principaux** de boîtes :\n",
    "- les boîtes \"Markdown\": tout ce qui est tapé dans ces boîtes est du texte qui sera rendu \"joliment\" après avoir été compilé. On peut y écrire des commandes en Latex pour définir des équations, et il reconnaît certaines balises HTML. En cliquant 2 fois dans une boîte Markdown compilée, on a accès à son contenu et on peut alors le modifier.\n",
    "- les boîtes \"Code\": dans ces boîtes, on écrit du code Python. La compilation de la boîte produit l'exécution de ce code Python et produit une boîte \"Out\" dans laquelle le résultat de la dernière commande est affiché. On peut y écrire tout code Python valide. Ce type de boîtes se reconnaît par \"In [n]\" inscrit à côté de leur coin haut gauche (\"n\" est un entier).\n",
    "\n",
    "Le type d'une boîte peut être modifié à l'aide du menu en haut de la page (juste au dessus du texte).\n",
    "\n",
    "L'icône \"+\" permet de créer une nouvelle boîte juste en dessous de la boîte active.\n",
    "\n",
    "L'icône avec les ciseaux permet d'effacer la boîte active (attention ! c'est **irréversible !**).\n",
    "\n",
    "Pour en savoir plus :\n",
    "- http://ipython.org/\n",
    "\n",
    "Vous pouvez aussi vous référer à la documentation Python:\n",
    "- https://www.python.org/\n",
    "\n",
    "\n",
    "Dans ce qui suit, les boîtes Markdown commençant par <font color=\"RED\" size=\"+1\">**[Q]**</font> posent des questions auxquelles il faut répondre dans la boîte qui suit directement (éventuellement, en créant des nouvelles boîtes de type \"Code\" ou \"Markdown\", à votre convenance).\n",
    "Certaines des boîtes \"Code\" à remplir sont suivies d'une sortie \"Out[.]:\" qui montre un exemple de résultat attendu. \n",
    "\n",
    "N'hésitez pas à créer de nouvelles boîtes \"Code\" ou \"Markdown\" dans ce document si vous en avez besoin.\n"
   ]
  },
  {
   "cell_type": "code",
   "execution_count": 1,
   "metadata": {},
   "outputs": [
    {
     "name": "stdout",
     "output_type": "stream",
     "text": [
      "Un essai quelconque :\n"
     ]
    },
    {
     "data": {
      "text/plain": [
       "5"
      ]
     },
     "execution_count": 1,
     "metadata": {},
     "output_type": "execute_result"
    }
   ],
   "source": [
    "# exemple de boîte de code :\n",
    "#    --> sélectionner cette boîte (en cliquant à l'intérieur)\n",
    "#    --> effectuer \"Run Cells\" du Menu \"Cell\" (ou bien cliquer sur l'icône >|)\n",
    "# \n",
    "\n",
    "print(\"Un essai quelconque :\")\n",
    "2+3\n"
   ]
  },
  {
   "cell_type": "markdown",
   "metadata": {},
   "source": [
    "<font color=\"RED\" size=\"+1\">**[Q]**</font> Dans la boîte \"Code\" suivante, donner les instructions Python pour effectuer le calcul : \n",
    "$$-\\frac{1}{3}\\log_2(\\frac{1}{3})-\\frac{2}{3}\\log_2(\\frac{2}{3})$$\n",
    "\n",
    "Dont la valeur à trouver est :\n",
    "    0.9182958340544896"
   ]
  },
  {
   "cell_type": "code",
   "execution_count": 2,
   "metadata": {},
   "outputs": [
    {
     "data": {
      "text/plain": [
       "0.9182958340544896"
      ]
     },
     "execution_count": 2,
     "metadata": {},
     "output_type": "execute_result"
    }
   ],
   "source": [
    "import math\n",
    "((-1/3)*math.log(1/3,2))-((2/3)*math.log(2/3,2))"
   ]
  },
  {
   "cell_type": "markdown",
   "metadata": {},
   "source": [
    "**<font style=\"BACKGROUND-COLOR: lightgray\" color='red'> Important</font>** :\n",
    "en lisant le texte d'un fichier jupyter sur votre ordinateur, pensez bien à exécuter les boîtes \"Code\" dans l'ordre de leur apparition. Toute la page se comporte comme une session Python unique et il pour exécuter certaines boîtes il est nécessaire que les précédentes aient été exécutées au préalable."
   ]
  },
  {
   "cell_type": "markdown",
   "metadata": {},
   "source": [
    "<font color=\"RED\" size=\"+1\">**[Q]**</font> Dans la boîte \"Code\" suivante, écrire la fonction <tt>calcul</tt> qui, étant donné un réel $x$ de [0,1] rend la valeur du calcul $$-x\\log_2(x)-(1-x)\\log_2(1-x)$$ si $x\\not= 0$ et $x \\not= 1$ ou la valeur $0.0$ sinon."
   ]
  },
  {
   "cell_type": "code",
   "execution_count": 3,
   "metadata": {},
   "outputs": [],
   "source": [
    "import math\n",
    "def calcul(x):\n",
    "    if x == 0 or x == 1:\n",
    "        return 0.0\n",
    "    else:\n",
    "        return ((-x)*math.log(x,2))-((1-x)*math.log(1-x,2))"
   ]
  },
  {
   "cell_type": "code",
   "execution_count": 4,
   "metadata": {},
   "outputs": [
    {
     "data": {
      "text/plain": [
       "0.0"
      ]
     },
     "execution_count": 4,
     "metadata": {},
     "output_type": "execute_result"
    }
   ],
   "source": [
    "calcul(0)"
   ]
  },
  {
   "cell_type": "code",
   "execution_count": 5,
   "metadata": {},
   "outputs": [
    {
     "data": {
      "text/plain": [
       "0.9182958340544896"
      ]
     },
     "execution_count": 5,
     "metadata": {},
     "output_type": "execute_result"
    }
   ],
   "source": [
    "calcul(1/3)"
   ]
  },
  {
   "cell_type": "code",
   "execution_count": 6,
   "metadata": {},
   "outputs": [
    {
     "data": {
      "text/plain": [
       "1.0"
      ]
     },
     "execution_count": 6,
     "metadata": {},
     "output_type": "execute_result"
    }
   ],
   "source": [
    "calcul(0.5)"
   ]
  },
  {
   "cell_type": "markdown",
   "metadata": {},
   "source": [
    "## Documentation\n",
    "\n",
    "\n",
    "Dans un premier temps, vous devez prendre en main les libraries **numpy**, **pandas** et **matplotlib**:\n",
    "\n",
    "- Numpy = <http://scipy.github.io/old-wiki/pages/Tentative_NumPy_Tutorial>\n",
    "- Pandas = http://pandas.pydata.org/pandas-docs/stable/10min.html\n",
    "- Matplotlib = https://matplotlib.org/1.3.1/users/pyplot_tutorial.html\n",
    "\n",
    "Lisez ces pages et pratiquez ces tutoriaux afin de bien vous familiariser avec ces outils."
   ]
  },
  {
   "cell_type": "markdown",
   "metadata": {},
   "source": [
    "<font color=\"RED\" size=\"+1\">**[Q]**</font> Donner dans la boîte suivante les grandes caractéristiques de chacunes de ces 3 librairies: A quoi servent-elles ? Que permettent-elles de représenter ? Quelle est leur utilité et leurs spécificités ? etc. etc.\n",
    "\n",
    "Donner des exemples de leurs utilisations spécifiques.\n",
    "\n",
    "--> Pandas permet la manipulation et l'analyse des données. "
   ]
  },
  {
   "cell_type": "markdown",
   "metadata": {},
   "source": [
    "Pour utiliser les 3 librairies précédentes, vous devrez d'abord les importer dans Jupyter par les commandes données dans la boite suivante.\n",
    "\n",
    "Si une librairie n'est pas installée, une erreur peut se produire lors de son import. Il est alors nécessaire de l'installer. Par exemple, pour la librairie pandas sur les machines de la PPTI:\n",
    "- dans un terminal, exécuter la commande:\n",
    "    \n",
    "        pip install --user -U --proxy http://proxy:3128 pandas\n",
    "\n",
    "(le proxy n'est nécessaire que pour les salles machines, vous n'avez pas à l'utiliser sur vos machines personnelles).\n",
    "- une fois la librairie installée, il est nécessaire de relancer le noyau Python de Jupyter:\n",
    "    dans le menu de Jupyter tout en haut de la page, choisir \"<tt>Kernel -> restart</tt>\"\n",
    "    \n"
   ]
  },
  {
   "cell_type": "code",
   "execution_count": 7,
   "metadata": {},
   "outputs": [],
   "source": [
    "import numpy as np\n",
    "import pandas as pd\n",
    "from datetime import datetime as dt\n",
    "import matplotlib.pyplot as plt\n",
    "%matplotlib inline  "
   ]
  },
  {
   "cell_type": "markdown",
   "metadata": {},
   "source": [
    "## Programmation et expérimentation ##\n",
    "\n",
    "Le jeu de données (ou *dataset*) qui sera utilisé dans cette séance pour valider vos fonctions correspond à des données concernant des prix dans différents états d'Amérique du Nord. \n",
    "\n",
    "\n",
    "La référence de ce dataset est disponible ici : <https://github.com/amitkaps/weed/blob/master/1-Acquire.ipynb>\n",
    "\n",
    "Ces données sont aussi fournies dans le fichier <tt>data-01.zip</tt> à télécharger sur le site Moodle.\n",
    "\n",
    "Elles se composent de trois fichiers:\n",
    "* <tt>\"data-01/Weed_Price.csv\"</tt>: prix par date et par état (pour trois qualités différentes)\n",
    "* <tt>\"data-01/Demographics_State.csv\"</tt>: informations démographiques sur chaque état\n",
    "* <tt>\"data-01/Population_State.csv\"</tt>: population de chaque état\n",
    "\n",
    "La première étape est de télécharger ces fichiers dans des dataframes pandas.\n",
    "\n",
    "Comme ce sont des fichiers <a href=\"https://fr.wikipedia.org/wiki/Comma-separated_values\"><tt>CSV</tt></a>, on utilise la librairie Pandas qui contient une fonction de lecture de tels types de fichiers."
   ]
  },
  {
   "cell_type": "code",
   "execution_count": 8,
   "metadata": {},
   "outputs": [],
   "source": [
    "# Chargement des fichiers de données :\n",
    "\n",
    "prices_pd = pd.read_csv(\"data-01/Weed_Price.csv\", parse_dates=[-1])\n",
    "demography_pd = pd.read_csv(\"data-01/Demographics_State.csv\")\n",
    "population_pd = pd.read_csv(\"data-01/Population_State.csv\")"
   ]
  },
  {
   "cell_type": "markdown",
   "metadata": {},
   "source": [
    "<font color=\"RED\" size=\"+1\">**[Q]**</font> **Des dataframes**\n",
    "Commencer par regarder la documentation de la fonction <tt>read_csv</tt> de la librairie Pandas. Que rend cette fonction (quel est le type de ce qui est rendu) ?\n",
    "\n",
    "read_csv lit un fichier csv dans un dataFrame"
   ]
  },
  {
   "cell_type": "markdown",
   "metadata": {},
   "source": [
    "<font color=\"RED\" size=\"+1\">**[Q]**</font> **Des dataframes**\n",
    "\n",
    "Les dataframes Pandas permettent de stocker ensemble des données dont les valeurs peuvent être différentes. Cela peut s'apparenter à une feuille Excel : chaque ligne correspond à une même donnée (un \"exemple\") et contient dans chaque colonne des valeurs qui peuvent être de différents types.\n",
    "\n",
    "Examiner le type des trois variables qui viennent d'être définies. Pour cela, utiliser la fonction <tt>type</tt> de Python: par exemple <tt>type(prices_pd)</tt>."
   ]
  },
  {
   "cell_type": "code",
   "execution_count": 9,
   "metadata": {},
   "outputs": [
    {
     "data": {
      "text/plain": [
       "pandas.core.frame.DataFrame"
      ]
     },
     "execution_count": 9,
     "metadata": {},
     "output_type": "execute_result"
    }
   ],
   "source": [
    "# type de prices_pd:\n",
    "type(prices_pd)\n"
   ]
  },
  {
   "cell_type": "code",
   "execution_count": 10,
   "metadata": {},
   "outputs": [
    {
     "data": {
      "text/plain": [
       "pandas.core.frame.DataFrame"
      ]
     },
     "execution_count": 10,
     "metadata": {},
     "output_type": "execute_result"
    }
   ],
   "source": [
    "# type de demography_pd\n",
    "type(demography_pd)\n"
   ]
  },
  {
   "cell_type": "code",
   "execution_count": 11,
   "metadata": {},
   "outputs": [
    {
     "data": {
      "text/plain": [
       "pandas.core.frame.DataFrame"
      ]
     },
     "execution_count": 11,
     "metadata": {},
     "output_type": "execute_result"
    }
   ],
   "source": [
    "# type de population_pd\n",
    "\n",
    "type(population_pd)"
   ]
  },
  {
   "cell_type": "markdown",
   "metadata": {},
   "source": [
    "**Important**: chaque fois que vous utilisez une commande, regardez le type du résultat obtenu (liste, DataFrame, Series, array,...) cela vous permettra de savoir ce que vous pouvez appliquer sur ce résultat."
   ]
  },
  {
   "cell_type": "markdown",
   "metadata": {},
   "source": [
    "<font color=\"RED\" size=\"+1\">**[Q]**</font> **En savoir plus sur les données...**\n",
    "\n",
    "* Commencer par se familiariser avec les données en les visualisant et en affichant des exemples de lignes ou de colonnes que ces DataFrames contiennent. Pour cela, manipuler les fonctions des librairies que vous venez de découvrir (par exemple, <tt>head()</tt>, <tt>tail()</tt>, ...)."
   ]
  },
  {
   "cell_type": "code",
   "execution_count": 12,
   "metadata": {},
   "outputs": [
    {
     "data": {
      "text/html": [
       "<div>\n",
       "<style scoped>\n",
       "    .dataframe tbody tr th:only-of-type {\n",
       "        vertical-align: middle;\n",
       "    }\n",
       "\n",
       "    .dataframe tbody tr th {\n",
       "        vertical-align: top;\n",
       "    }\n",
       "\n",
       "    .dataframe thead th {\n",
       "        text-align: right;\n",
       "    }\n",
       "</style>\n",
       "<table border=\"1\" class=\"dataframe\">\n",
       "  <thead>\n",
       "    <tr style=\"text-align: right;\">\n",
       "      <th></th>\n",
       "      <th>State</th>\n",
       "      <th>HighQ</th>\n",
       "      <th>HighQN</th>\n",
       "      <th>MedQ</th>\n",
       "      <th>MedQN</th>\n",
       "      <th>LowQ</th>\n",
       "      <th>LowQN</th>\n",
       "      <th>date</th>\n",
       "    </tr>\n",
       "  </thead>\n",
       "  <tbody>\n",
       "    <tr>\n",
       "      <th>0</th>\n",
       "      <td>Alabama</td>\n",
       "      <td>339.06</td>\n",
       "      <td>1042</td>\n",
       "      <td>198.64</td>\n",
       "      <td>933</td>\n",
       "      <td>149.49</td>\n",
       "      <td>123</td>\n",
       "      <td>2014-01-01</td>\n",
       "    </tr>\n",
       "    <tr>\n",
       "      <th>1</th>\n",
       "      <td>Alaska</td>\n",
       "      <td>288.75</td>\n",
       "      <td>252</td>\n",
       "      <td>260.60</td>\n",
       "      <td>297</td>\n",
       "      <td>388.58</td>\n",
       "      <td>26</td>\n",
       "      <td>2014-01-01</td>\n",
       "    </tr>\n",
       "    <tr>\n",
       "      <th>2</th>\n",
       "      <td>Arizona</td>\n",
       "      <td>303.31</td>\n",
       "      <td>1941</td>\n",
       "      <td>209.35</td>\n",
       "      <td>1625</td>\n",
       "      <td>189.45</td>\n",
       "      <td>222</td>\n",
       "      <td>2014-01-01</td>\n",
       "    </tr>\n",
       "    <tr>\n",
       "      <th>3</th>\n",
       "      <td>Arkansas</td>\n",
       "      <td>361.85</td>\n",
       "      <td>576</td>\n",
       "      <td>185.62</td>\n",
       "      <td>544</td>\n",
       "      <td>125.87</td>\n",
       "      <td>112</td>\n",
       "      <td>2014-01-01</td>\n",
       "    </tr>\n",
       "    <tr>\n",
       "      <th>4</th>\n",
       "      <td>California</td>\n",
       "      <td>248.78</td>\n",
       "      <td>12096</td>\n",
       "      <td>193.56</td>\n",
       "      <td>12812</td>\n",
       "      <td>192.92</td>\n",
       "      <td>778</td>\n",
       "      <td>2014-01-01</td>\n",
       "    </tr>\n",
       "    <tr>\n",
       "      <th>5</th>\n",
       "      <td>Colorado</td>\n",
       "      <td>236.31</td>\n",
       "      <td>2161</td>\n",
       "      <td>195.29</td>\n",
       "      <td>1728</td>\n",
       "      <td>213.50</td>\n",
       "      <td>128</td>\n",
       "      <td>2014-01-01</td>\n",
       "    </tr>\n",
       "    <tr>\n",
       "      <th>6</th>\n",
       "      <td>Connecticut</td>\n",
       "      <td>347.90</td>\n",
       "      <td>1294</td>\n",
       "      <td>273.97</td>\n",
       "      <td>1316</td>\n",
       "      <td>257.36</td>\n",
       "      <td>91</td>\n",
       "      <td>2014-01-01</td>\n",
       "    </tr>\n",
       "    <tr>\n",
       "      <th>7</th>\n",
       "      <td>Delaware</td>\n",
       "      <td>373.18</td>\n",
       "      <td>347</td>\n",
       "      <td>226.25</td>\n",
       "      <td>273</td>\n",
       "      <td>199.88</td>\n",
       "      <td>34</td>\n",
       "      <td>2014-01-01</td>\n",
       "    </tr>\n",
       "    <tr>\n",
       "      <th>8</th>\n",
       "      <td>District of Columbia</td>\n",
       "      <td>352.26</td>\n",
       "      <td>433</td>\n",
       "      <td>295.67</td>\n",
       "      <td>349</td>\n",
       "      <td>213.72</td>\n",
       "      <td>39</td>\n",
       "      <td>2014-01-01</td>\n",
       "    </tr>\n",
       "    <tr>\n",
       "      <th>9</th>\n",
       "      <td>Florida</td>\n",
       "      <td>306.43</td>\n",
       "      <td>6506</td>\n",
       "      <td>220.03</td>\n",
       "      <td>5237</td>\n",
       "      <td>158.26</td>\n",
       "      <td>514</td>\n",
       "      <td>2014-01-01</td>\n",
       "    </tr>\n",
       "    <tr>\n",
       "      <th>10</th>\n",
       "      <td>Georgia</td>\n",
       "      <td>332.21</td>\n",
       "      <td>3099</td>\n",
       "      <td>213.52</td>\n",
       "      <td>2269</td>\n",
       "      <td>153.45</td>\n",
       "      <td>229</td>\n",
       "      <td>2014-01-01</td>\n",
       "    </tr>\n",
       "    <tr>\n",
       "      <th>11</th>\n",
       "      <td>Hawaii</td>\n",
       "      <td>310.96</td>\n",
       "      <td>328</td>\n",
       "      <td>270.38</td>\n",
       "      <td>350</td>\n",
       "      <td>160.46</td>\n",
       "      <td>25</td>\n",
       "      <td>2014-01-01</td>\n",
       "    </tr>\n",
       "    <tr>\n",
       "      <th>12</th>\n",
       "      <td>Idaho</td>\n",
       "      <td>276.05</td>\n",
       "      <td>315</td>\n",
       "      <td>254.96</td>\n",
       "      <td>445</td>\n",
       "      <td>132.61</td>\n",
       "      <td>20</td>\n",
       "      <td>2014-01-01</td>\n",
       "    </tr>\n",
       "    <tr>\n",
       "      <th>13</th>\n",
       "      <td>Illinois</td>\n",
       "      <td>359.74</td>\n",
       "      <td>4008</td>\n",
       "      <td>287.23</td>\n",
       "      <td>3644</td>\n",
       "      <td>181.25</td>\n",
       "      <td>329</td>\n",
       "      <td>2014-01-01</td>\n",
       "    </tr>\n",
       "    <tr>\n",
       "      <th>14</th>\n",
       "      <td>Indiana</td>\n",
       "      <td>336.80</td>\n",
       "      <td>1665</td>\n",
       "      <td>206.24</td>\n",
       "      <td>1446</td>\n",
       "      <td>154.05</td>\n",
       "      <td>248</td>\n",
       "      <td>2014-01-01</td>\n",
       "    </tr>\n",
       "  </tbody>\n",
       "</table>\n",
       "</div>"
      ],
      "text/plain": [
       "                   State   HighQ  HighQN    MedQ  MedQN    LowQ  LowQN  \\\n",
       "0                Alabama  339.06    1042  198.64    933  149.49    123   \n",
       "1                 Alaska  288.75     252  260.60    297  388.58     26   \n",
       "2                Arizona  303.31    1941  209.35   1625  189.45    222   \n",
       "3               Arkansas  361.85     576  185.62    544  125.87    112   \n",
       "4             California  248.78   12096  193.56  12812  192.92    778   \n",
       "5               Colorado  236.31    2161  195.29   1728  213.50    128   \n",
       "6            Connecticut  347.90    1294  273.97   1316  257.36     91   \n",
       "7               Delaware  373.18     347  226.25    273  199.88     34   \n",
       "8   District of Columbia  352.26     433  295.67    349  213.72     39   \n",
       "9                Florida  306.43    6506  220.03   5237  158.26    514   \n",
       "10               Georgia  332.21    3099  213.52   2269  153.45    229   \n",
       "11                Hawaii  310.96     328  270.38    350  160.46     25   \n",
       "12                 Idaho  276.05     315  254.96    445  132.61     20   \n",
       "13              Illinois  359.74    4008  287.23   3644  181.25    329   \n",
       "14               Indiana  336.80    1665  206.24   1446  154.05    248   \n",
       "\n",
       "         date  \n",
       "0  2014-01-01  \n",
       "1  2014-01-01  \n",
       "2  2014-01-01  \n",
       "3  2014-01-01  \n",
       "4  2014-01-01  \n",
       "5  2014-01-01  \n",
       "6  2014-01-01  \n",
       "7  2014-01-01  \n",
       "8  2014-01-01  \n",
       "9  2014-01-01  \n",
       "10 2014-01-01  \n",
       "11 2014-01-01  \n",
       "12 2014-01-01  \n",
       "13 2014-01-01  \n",
       "14 2014-01-01  "
      ]
     },
     "execution_count": 12,
     "metadata": {},
     "output_type": "execute_result"
    }
   ],
   "source": [
    "# 15 premières lignes de prices_pd\n",
    "\n",
    "prices_pd.head(15)"
   ]
  },
  {
   "cell_type": "code",
   "execution_count": 13,
   "metadata": {},
   "outputs": [
    {
     "data": {
      "text/html": [
       "<div>\n",
       "<style scoped>\n",
       "    .dataframe tbody tr th:only-of-type {\n",
       "        vertical-align: middle;\n",
       "    }\n",
       "\n",
       "    .dataframe tbody tr th {\n",
       "        vertical-align: top;\n",
       "    }\n",
       "\n",
       "    .dataframe thead th {\n",
       "        text-align: right;\n",
       "    }\n",
       "</style>\n",
       "<table border=\"1\" class=\"dataframe\">\n",
       "  <thead>\n",
       "    <tr style=\"text-align: right;\">\n",
       "      <th></th>\n",
       "      <th>State</th>\n",
       "      <th>HighQ</th>\n",
       "      <th>HighQN</th>\n",
       "      <th>MedQ</th>\n",
       "      <th>MedQN</th>\n",
       "      <th>LowQ</th>\n",
       "      <th>LowQN</th>\n",
       "      <th>date</th>\n",
       "    </tr>\n",
       "  </thead>\n",
       "  <tbody>\n",
       "    <tr>\n",
       "      <th>22892</th>\n",
       "      <td>Utah</td>\n",
       "      <td>290.42</td>\n",
       "      <td>959</td>\n",
       "      <td>238.08</td>\n",
       "      <td>1055</td>\n",
       "      <td>NaN</td>\n",
       "      <td>62</td>\n",
       "      <td>2014-12-31</td>\n",
       "    </tr>\n",
       "    <tr>\n",
       "      <th>22893</th>\n",
       "      <td>Vermont</td>\n",
       "      <td>371.23</td>\n",
       "      <td>357</td>\n",
       "      <td>308.86</td>\n",
       "      <td>367</td>\n",
       "      <td>NaN</td>\n",
       "      <td>32</td>\n",
       "      <td>2014-12-31</td>\n",
       "    </tr>\n",
       "    <tr>\n",
       "      <th>22894</th>\n",
       "      <td>Virginia</td>\n",
       "      <td>364.98</td>\n",
       "      <td>3513</td>\n",
       "      <td>293.12</td>\n",
       "      <td>3079</td>\n",
       "      <td>NaN</td>\n",
       "      <td>284</td>\n",
       "      <td>2014-12-31</td>\n",
       "    </tr>\n",
       "    <tr>\n",
       "      <th>22895</th>\n",
       "      <td>Washington</td>\n",
       "      <td>233.05</td>\n",
       "      <td>3337</td>\n",
       "      <td>189.92</td>\n",
       "      <td>3562</td>\n",
       "      <td>NaN</td>\n",
       "      <td>160</td>\n",
       "      <td>2014-12-31</td>\n",
       "    </tr>\n",
       "    <tr>\n",
       "      <th>22896</th>\n",
       "      <td>West Virginia</td>\n",
       "      <td>359.35</td>\n",
       "      <td>551</td>\n",
       "      <td>224.03</td>\n",
       "      <td>545</td>\n",
       "      <td>NaN</td>\n",
       "      <td>60</td>\n",
       "      <td>2014-12-31</td>\n",
       "    </tr>\n",
       "    <tr>\n",
       "      <th>22897</th>\n",
       "      <td>Wisconsin</td>\n",
       "      <td>350.52</td>\n",
       "      <td>2244</td>\n",
       "      <td>272.71</td>\n",
       "      <td>2221</td>\n",
       "      <td>NaN</td>\n",
       "      <td>167</td>\n",
       "      <td>2014-12-31</td>\n",
       "    </tr>\n",
       "    <tr>\n",
       "      <th>22898</th>\n",
       "      <td>Wyoming</td>\n",
       "      <td>322.27</td>\n",
       "      <td>131</td>\n",
       "      <td>351.86</td>\n",
       "      <td>197</td>\n",
       "      <td>NaN</td>\n",
       "      <td>12</td>\n",
       "      <td>2014-12-31</td>\n",
       "    </tr>\n",
       "  </tbody>\n",
       "</table>\n",
       "</div>"
      ],
      "text/plain": [
       "               State   HighQ  HighQN    MedQ  MedQN  LowQ  LowQN       date\n",
       "22892           Utah  290.42     959  238.08   1055   NaN     62 2014-12-31\n",
       "22893        Vermont  371.23     357  308.86    367   NaN     32 2014-12-31\n",
       "22894       Virginia  364.98    3513  293.12   3079   NaN    284 2014-12-31\n",
       "22895     Washington  233.05    3337  189.92   3562   NaN    160 2014-12-31\n",
       "22896  West Virginia  359.35     551  224.03    545   NaN     60 2014-12-31\n",
       "22897      Wisconsin  350.52    2244  272.71   2221   NaN    167 2014-12-31\n",
       "22898        Wyoming  322.27     131  351.86    197   NaN     12 2014-12-31"
      ]
     },
     "execution_count": 13,
     "metadata": {},
     "output_type": "execute_result"
    }
   ],
   "source": [
    "# 7 dernières lignes de prices_pd\n",
    "\n",
    "prices_pd.tail(7)"
   ]
  },
  {
   "cell_type": "markdown",
   "metadata": {},
   "source": [
    "Les types des données peuvent être récupérés à travers la méthode <tt>dtypes</tt>:"
   ]
  },
  {
   "cell_type": "code",
   "execution_count": 14,
   "metadata": {},
   "outputs": [
    {
     "data": {
      "text/plain": [
       "State             object\n",
       "HighQ            float64\n",
       "HighQN             int64\n",
       "MedQ             float64\n",
       "MedQN              int64\n",
       "LowQ             float64\n",
       "LowQN              int64\n",
       "date      datetime64[ns]\n",
       "dtype: object"
      ]
     },
     "execution_count": 14,
     "metadata": {},
     "output_type": "execute_result"
    }
   ],
   "source": [
    "prices_pd.dtypes"
   ]
  },
  {
   "cell_type": "markdown",
   "metadata": {},
   "source": [
    "Il y a beaucoup de fonction s à découvrir pour obtenir des informations utiles sur les DataFrames. Par exemple, la liste des états peut être obtenue ainsi:\n"
   ]
  },
  {
   "cell_type": "code",
   "execution_count": 15,
   "metadata": {},
   "outputs": [],
   "source": [
    "les_etats = np.unique(prices_pd[\"State\"].values)"
   ]
  },
  {
   "cell_type": "code",
   "execution_count": 16,
   "metadata": {},
   "outputs": [
    {
     "data": {
      "text/plain": [
       "array(['Alabama', 'Alaska', 'Arizona', 'Arkansas', 'California',\n",
       "       'Colorado', 'Connecticut', 'Delaware', 'District of Columbia',\n",
       "       'Florida', 'Georgia', 'Hawaii', 'Idaho', 'Illinois', 'Indiana',\n",
       "       'Iowa', 'Kansas', 'Kentucky', 'Louisiana', 'Maine', 'Maryland',\n",
       "       'Massachusetts', 'Michigan', 'Minnesota', 'Mississippi',\n",
       "       'Missouri', 'Montana', 'Nebraska', 'Nevada', 'New Hampshire',\n",
       "       'New Jersey', 'New Mexico', 'New York', 'North Carolina',\n",
       "       'North Dakota', 'Ohio', 'Oklahoma', 'Oregon', 'Pennsylvania',\n",
       "       'Rhode Island', 'South Carolina', 'South Dakota', 'Tennessee',\n",
       "       'Texas', 'Utah', 'Vermont', 'Virginia', 'Washington',\n",
       "       'West Virginia', 'Wisconsin', 'Wyoming'], dtype=object)"
      ]
     },
     "execution_count": 16,
     "metadata": {},
     "output_type": "execute_result"
    }
   ],
   "source": [
    "# Afficher la liste des états :\n",
    "les_etats"
   ]
  },
  {
   "cell_type": "markdown",
   "metadata": {},
   "source": [
    "Comparer le nombre de valeurs de :\n",
    "\n",
    "        prices_pd[\"MedQ\"].values\n",
    "\n",
    "et de \n",
    "\n",
    "        np.unique(prices_pd[\"MedQ\"].values\n",
    "\n",
    "Expliquer ce qui se passe.        "
   ]
  },
  {
   "cell_type": "code",
   "execution_count": 17,
   "metadata": {},
   "outputs": [
    {
     "data": {
      "text/plain": [
       "False"
      ]
     },
     "execution_count": 17,
     "metadata": {},
     "output_type": "execute_result"
    }
   ],
   "source": [
    "(prices_pd[\"MedQ\"].values).size==(np.unique(prices_pd[\"MedQ\"].values)).size"
   ]
  },
  {
   "cell_type": "markdown",
   "metadata": {},
   "source": [
    "## Implémentation de mesures classiques ##\n"
   ]
  },
  {
   "cell_type": "markdown",
   "metadata": {},
   "source": [
    "Nous allons maintenant écrire les fonctions permettant de calculer des mesures ''basiques'' sur des données unidimensionnelles. Pour cela, nous allons travailler avec la structure <tt>array</tt> de numpy. Pour convertir une colonne de DataFrame en '<tt>array</tt>, voici commment faire:"
   ]
  },
  {
   "cell_type": "markdown",
   "metadata": {},
   "source": [
    "### Moyenne"
   ]
  },
  {
   "cell_type": "markdown",
   "metadata": {},
   "source": [
    "<font color=\"RED\" size=\"+1\">**[Q]**</font> **La moyenne**\n",
    "\n",
    "\n",
    "Ecrire la fonction moyenne(valeurs) qui calcule la moyenne des éléments d'un tableau (en utilisant la boucle ''for'', sans utiliser les fonctions déjà implémentées dans numpy)"
   ]
  },
  {
   "cell_type": "code",
   "execution_count": 48,
   "metadata": {},
   "outputs": [],
   "source": [
    "def moyenne(tab):\n",
    "    somme=0\n",
    "    for values in tab:\n",
    "        somme+=values\n",
    "    return somme/len(tab)"
   ]
  },
  {
   "cell_type": "markdown",
   "metadata": {},
   "source": [
    "Tester la fonction moyenne et comparer vos résultats avec l'implémentation de base de python donnée ci-dessous:"
   ]
  },
  {
   "cell_type": "code",
   "execution_count": 19,
   "metadata": {},
   "outputs": [
    {
     "name": "stdout",
     "output_type": "stream",
     "text": [
      "La moyenne (MedQ) est avec ma fonction : 247.618306 dollars\n",
      "La moyenne (MedQ) est avec mean        : 247.618306 dollars\n"
     ]
    }
   ],
   "source": [
    "print(\"La moyenne (MedQ) est avec ma fonction : %f dollars\" % moyenne(prices_pd[\"MedQ\"]))\n",
    "print(\"La moyenne (MedQ) est avec mean        : %f dollars\" % prices_pd[\"MedQ\"].mean())"
   ]
  },
  {
   "cell_type": "markdown",
   "metadata": {},
   "source": [
    "<font color=\"RED\" size=\"+1\">**[Q]**</font> **Moyennes sur les qualités**\n",
    "\n",
    "Calculer:\n",
    "* La moyenne des prix pour les qualités medium et high\n",
    "* La moyenne des prix pour les qualités medium et high dans l'état de ''New York''\n",
    "\n",
    "Les calculs seront fait d'une part à l'aide de votre fonction, et d'autre part à l'aide des fonctions de python. "
   ]
  },
  {
   "cell_type": "code",
   "execution_count": 20,
   "metadata": {},
   "outputs": [
    {
     "name": "stdout",
     "output_type": "stream",
     "text": [
      "Moyenne MedQ  avec ma fonction : 247.618306 dollars\n",
      "Moyenne MedQ avec mean        : 247.618306 dollars\n",
      "Moyenne HighQ avec ma fonction : 329.759854 dollars\n",
      "Moyenne HighQ avec mean        : 329.759854 dollars\n",
      "Moyenne MedQ à NewYork avec ma fonction : 265.376949 dollars\n",
      "Moyenne MedQ à NewYork avec mean : 265.376949 dollars\n",
      "Moyenne HighQ à NewYork avec ma fonction : 346.912762 dollars\n",
      "Moyenne HighQ à NewYork avec mean : 346.912762 dollars\n"
     ]
    }
   ],
   "source": [
    "print(\"Moyenne MedQ  avec ma fonction : %f dollars\" % moyenne(prices_pd[\"MedQ\"]))\n",
    "print(\"Moyenne MedQ avec mean        : %f dollars\" % prices_pd[\"MedQ\"].mean())\n",
    "print(\"Moyenne HighQ avec ma fonction : %f dollars\" % moyenne(prices_pd[\"HighQ\"]))\n",
    "print(\"Moyenne HighQ avec mean        : %f dollars\" % prices_pd[\"HighQ\"].mean())\n",
    "\n",
    "print(\"Moyenne MedQ à NewYork avec ma fonction : %f dollars\" %moyenne((prices_pd.loc[prices_pd[\"State\"]==\"New York\",\"MedQ\"]).values))\n",
    "print(\"Moyenne MedQ à NewYork avec mean : %f dollars\" %(prices_pd.loc[prices_pd[\"State\"]==\"New York\",\"MedQ\"]).values.mean())\n",
    "print(\"Moyenne HighQ à NewYork avec ma fonction : %f dollars\" %moyenne((prices_pd.loc[prices_pd[\"State\"]==\"New York\",\"HighQ\"]).values))\n",
    "print(\"Moyenne HighQ à NewYork avec mean : %f dollars\" %(prices_pd.loc[prices_pd[\"State\"]==\"New York\",\"HighQ\"]).values.mean())\n",
    "\n"
   ]
  },
  {
   "cell_type": "markdown",
   "metadata": {},
   "source": [
    "<font color=\"RED\" size=\"+1\">**[Q]**</font> **Moyenne sur les états**\n",
    "\n",
    "Calculez la moyenne des prix qualités medium et high dans tous les états -- la liste des états est obtenues ainsi states=np.unique(prices_pd[\"State\"].values)\n",
    "\n",
    "Pour cela, vous pouvez (devez) le faire de deux manières:\n",
    "* Faire une boucle sur chacun des états\n",
    "* Utiliser la fonction groupby comme expliqué ici : http://pandas.pydata.org/pandas-docs/stable/groupby.html\n",
    " et ici : https://www.kaggle.com/crawford/python-groupby-tutorial\n"
   ]
  },
  {
   "cell_type": "code",
   "execution_count": 21,
   "metadata": {},
   "outputs": [
    {
     "name": "stdout",
     "output_type": "stream",
     "text": [
      "Alabama 204.6061692650334\n",
      "Alaska 262.0463919821826\n",
      "Arizona 209.36534521158129\n",
      "Arkansas 190.4146547884187\n",
      "California 191.26890868596882\n",
      "Colorado 196.5325167037862\n",
      "Connecticut 271.3238975501113\n",
      "Delaware 231.23031180400892\n",
      "District of Columbia 288.2513140311804\n",
      "Florida 217.88256124721602\n",
      "Georgia 215.9436302895323\n",
      "Hawaii 268.73815144766144\n",
      "Idaho 249.8224276169265\n",
      "Illinois 284.18008908685965\n",
      "Indiana 211.98951002227173\n",
      "Iowa 289.9455233853007\n",
      "Kansas 261.24307349665924\n",
      "Kentucky 179.93376391982184\n",
      "Louisiana 243.11788418708238\n",
      "Maine 248.43817371937638\n",
      "Maryland 254.14044543429844\n",
      "Massachusetts 290.1978841870824\n",
      "Michigan 273.3523385300668\n",
      "Minnesota 275.85006681514477\n",
      "Mississippi 148.23160356347438\n",
      "Missouri 244.81220489977727\n",
      "Montana 248.39855233853004\n",
      "Nebraska 248.16064587973275\n",
      "Nevada 226.21741648106902\n",
      "New Hampshire 290.1077505567929\n",
      "New Jersey 288.72701559020044\n",
      "New Mexico 209.2422494432071\n",
      "New York 265.37694877505567\n",
      "North Carolina 245.69922048997776\n",
      "North Dakota 349.0666815144766\n",
      "Ohio 216.95316258351895\n",
      "Oklahoma 233.82200445434296\n",
      "Oregon 183.88986636971043\n",
      "Pennsylvania 267.8913363028953\n",
      "Rhode Island 258.172293986637\n",
      "South Carolina 203.33977728285078\n",
      "South Dakota 351.9448106904231\n",
      "Tennessee 225.80886414253897\n",
      "Texas 233.5368374164811\n",
      "Utah 237.3718930957684\n",
      "Vermont 315.5475501113586\n",
      "Virginia 290.4080846325167\n",
      "Washington 189.92498886414256\n",
      "West Virginia 215.88380846325168\n",
      "Wisconsin 271.6481737193764\n",
      "Wyoming 358.5348329621381\n",
      "State\n",
      "Alabama                 204.606169\n",
      "Alaska                  262.046392\n",
      "Arizona                 209.365345\n",
      "Arkansas                190.414655\n",
      "California              191.268909\n",
      "Colorado                196.532517\n",
      "Connecticut             271.323898\n",
      "Delaware                231.230312\n",
      "District of Columbia    288.251314\n",
      "Florida                 217.882561\n",
      "Georgia                 215.943630\n",
      "Hawaii                  268.738151\n",
      "Idaho                   249.822428\n",
      "Illinois                284.180089\n",
      "Indiana                 211.989510\n",
      "Iowa                    289.945523\n",
      "Kansas                  261.243073\n",
      "Kentucky                179.933764\n",
      "Louisiana               243.117884\n",
      "Maine                   248.438174\n",
      "Maryland                254.140445\n",
      "Massachusetts           290.197884\n",
      "Michigan                273.352339\n",
      "Minnesota               275.850067\n",
      "Mississippi             148.231604\n",
      "Missouri                244.812205\n",
      "Montana                 248.398552\n",
      "Nebraska                248.160646\n",
      "Nevada                  226.217416\n",
      "New Hampshire           290.107751\n",
      "New Jersey              288.727016\n",
      "New Mexico              209.242249\n",
      "New York                265.376949\n",
      "North Carolina          245.699220\n",
      "North Dakota            349.066682\n",
      "Ohio                    216.953163\n",
      "Oklahoma                233.822004\n",
      "Oregon                  183.889866\n",
      "Pennsylvania            267.891336\n",
      "Rhode Island            258.172294\n",
      "South Carolina          203.339777\n",
      "South Dakota            351.944811\n",
      "Tennessee               225.808864\n",
      "Texas                   233.536837\n",
      "Utah                    237.371893\n",
      "Vermont                 315.547550\n",
      "Virginia                290.408085\n",
      "Washington              189.924989\n",
      "West Virginia           215.883808\n",
      "Wisconsin               271.648174\n",
      "Wyoming                 358.534833\n",
      "Name: MedQ, dtype: float64\n"
     ]
    },
    {
     "ename": "TypeError",
     "evalue": "'NoneType' object is not subscriptable",
     "output_type": "error",
     "traceback": [
      "\u001b[0;31m---------------------------------------------------------------------------\u001b[0m",
      "\u001b[0;31mTypeError\u001b[0m                                 Traceback (most recent call last)",
      "\u001b[0;32m<ipython-input-21-56abf948a276>\u001b[0m in \u001b[0;36m<module>\u001b[0;34m\u001b[0m\n\u001b[1;32m     11\u001b[0m \u001b[0mfonct_boucle\u001b[0m\u001b[0;34m(\u001b[0m\u001b[0;34m\"MedQ\"\u001b[0m\u001b[0;34m)\u001b[0m\u001b[0;34m\u001b[0m\u001b[0;34m\u001b[0m\u001b[0m\n\u001b[1;32m     12\u001b[0m \u001b[0mvar\u001b[0m \u001b[0;34m=\u001b[0m \u001b[0mfonct_groupby\u001b[0m\u001b[0;34m(\u001b[0m\u001b[0mprices_pd\u001b[0m\u001b[0;34m,\u001b[0m\u001b[0;34m\"MedQ\"\u001b[0m\u001b[0;34m)\u001b[0m\u001b[0;34m\u001b[0m\u001b[0;34m\u001b[0m\u001b[0m\n\u001b[0;32m---> 13\u001b[0;31m \u001b[0mvar\u001b[0m\u001b[0;34m[\u001b[0m\u001b[0;34m\"MedQ\"\u001b[0m\u001b[0;34m]\u001b[0m\u001b[0;34m\u001b[0m\u001b[0;34m\u001b[0m\u001b[0m\n\u001b[0m",
      "\u001b[0;31mTypeError\u001b[0m: 'NoneType' object is not subscriptable"
     ]
    }
   ],
   "source": [
    "def fonct_boucle(qualite):\n",
    "    states=np.unique(prices_pd[\"State\"].values)\n",
    "    for s in states:\n",
    "        print(s,(prices_pd.loc[prices_pd[\"State\"]==s,qualite]).values.mean())\n",
    "\n",
    "def fonct_groupby(data,qualite):\n",
    "    var=data.groupby('State')\n",
    "    print(var[qualite].mean())\n",
    "        \n",
    "        \n",
    "fonct_boucle(\"MedQ\")\n",
    "var = fonct_groupby(prices_pd,\"MedQ\")\n",
    "var[\"MedQ\"]"
   ]
  },
  {
   "cell_type": "markdown",
   "metadata": {},
   "source": [
    "<font color=\"RED\" size=\"+1\">**[Q]**</font> **D'autres moyennes**\n",
    "\n",
    "Calculer la moyenne (avec les deux fonctions) sur le prix de la basse qualité. Que constatez vous ? Expliquez..."
   ]
  },
  {
   "cell_type": "code",
   "execution_count": 22,
   "metadata": {},
   "outputs": [
    {
     "name": "stdout",
     "output_type": "stream",
     "text": [
      "nan\n",
      "nan\n"
     ]
    }
   ],
   "source": [
    "print(moyenne(prices_pd[\"LowQ\"]))\n",
    "print((prices_pd[\"LowQ\"].values).mean())\n",
    "#normal car exemples sans valeur LowQ"
   ]
  },
  {
   "cell_type": "markdown",
   "metadata": {},
   "source": [
    "<font color=\"RED\" size=\"+1\">**[Q]**</font> **Modification de données**\n",
    "\n",
    "Remplacez le <tt>NAN</tt> de la colonne <tt>LowQ</tt> à l'aide de la fonction décrite ici: http://pandas.pydata.org/pandas-docs/version/0.17.1/generated/pandas.DataFrame.fillna.html. \n",
    "\n",
    "Nous souhaitons plus particulièrement utiliser la méthode <tt>fill</tt> après avoir trié par état et par date grâce à l'utilisation de la fonction <tt>sort</tt> : \n",
    "\n",
    "            prices_sorted = prices_pd.sort_values(by=['State', 'date'], inplace=False)\n",
    "\n",
    "Expliquer le résultat de cette commande.\n",
    "Que se passerait-il si on utilisait <tt>inplace=True</tt> ?"
   ]
  },
  {
   "cell_type": "code",
   "execution_count": 23,
   "metadata": {},
   "outputs": [
    {
     "data": {
      "text/html": [
       "<div>\n",
       "<style scoped>\n",
       "    .dataframe tbody tr th:only-of-type {\n",
       "        vertical-align: middle;\n",
       "    }\n",
       "\n",
       "    .dataframe tbody tr th {\n",
       "        vertical-align: top;\n",
       "    }\n",
       "\n",
       "    .dataframe thead th {\n",
       "        text-align: right;\n",
       "    }\n",
       "</style>\n",
       "<table border=\"1\" class=\"dataframe\">\n",
       "  <thead>\n",
       "    <tr style=\"text-align: right;\">\n",
       "      <th></th>\n",
       "      <th>State</th>\n",
       "      <th>HighQ</th>\n",
       "      <th>HighQN</th>\n",
       "      <th>MedQ</th>\n",
       "      <th>MedQN</th>\n",
       "      <th>LowQ</th>\n",
       "      <th>LowQN</th>\n",
       "      <th>date</th>\n",
       "    </tr>\n",
       "  </thead>\n",
       "  <tbody>\n",
       "    <tr>\n",
       "      <th>20094</th>\n",
       "      <td>Alabama</td>\n",
       "      <td>339.65</td>\n",
       "      <td>1033</td>\n",
       "      <td>198.04</td>\n",
       "      <td>926</td>\n",
       "      <td>147.15</td>\n",
       "      <td>122</td>\n",
       "      <td>2013-12-27</td>\n",
       "    </tr>\n",
       "    <tr>\n",
       "      <th>20859</th>\n",
       "      <td>Alabama</td>\n",
       "      <td>339.65</td>\n",
       "      <td>1033</td>\n",
       "      <td>198.04</td>\n",
       "      <td>926</td>\n",
       "      <td>147.15</td>\n",
       "      <td>122</td>\n",
       "      <td>2013-12-28</td>\n",
       "    </tr>\n",
       "    <tr>\n",
       "      <th>21573</th>\n",
       "      <td>Alabama</td>\n",
       "      <td>339.75</td>\n",
       "      <td>1036</td>\n",
       "      <td>198.26</td>\n",
       "      <td>929</td>\n",
       "      <td>149.49</td>\n",
       "      <td>123</td>\n",
       "      <td>2013-12-29</td>\n",
       "    </tr>\n",
       "    <tr>\n",
       "      <th>22287</th>\n",
       "      <td>Alabama</td>\n",
       "      <td>339.75</td>\n",
       "      <td>1036</td>\n",
       "      <td>198.81</td>\n",
       "      <td>930</td>\n",
       "      <td>149.49</td>\n",
       "      <td>123</td>\n",
       "      <td>2013-12-30</td>\n",
       "    </tr>\n",
       "    <tr>\n",
       "      <th>22797</th>\n",
       "      <td>Alabama</td>\n",
       "      <td>339.42</td>\n",
       "      <td>1040</td>\n",
       "      <td>198.68</td>\n",
       "      <td>932</td>\n",
       "      <td>149.49</td>\n",
       "      <td>123</td>\n",
       "      <td>2013-12-31</td>\n",
       "    </tr>\n",
       "    <tr>\n",
       "      <th>...</th>\n",
       "      <td>...</td>\n",
       "      <td>...</td>\n",
       "      <td>...</td>\n",
       "      <td>...</td>\n",
       "      <td>...</td>\n",
       "      <td>...</td>\n",
       "      <td>...</td>\n",
       "      <td>...</td>\n",
       "    </tr>\n",
       "    <tr>\n",
       "      <th>4997</th>\n",
       "      <td>Wyoming</td>\n",
       "      <td>313.72</td>\n",
       "      <td>148</td>\n",
       "      <td>317.38</td>\n",
       "      <td>226</td>\n",
       "      <td>161.30</td>\n",
       "      <td>13</td>\n",
       "      <td>2015-06-07</td>\n",
       "    </tr>\n",
       "    <tr>\n",
       "      <th>5762</th>\n",
       "      <td>Wyoming</td>\n",
       "      <td>313.72</td>\n",
       "      <td>148</td>\n",
       "      <td>317.38</td>\n",
       "      <td>226</td>\n",
       "      <td>161.30</td>\n",
       "      <td>13</td>\n",
       "      <td>2015-06-08</td>\n",
       "    </tr>\n",
       "    <tr>\n",
       "      <th>6527</th>\n",
       "      <td>Wyoming</td>\n",
       "      <td>313.72</td>\n",
       "      <td>148</td>\n",
       "      <td>317.38</td>\n",
       "      <td>226</td>\n",
       "      <td>161.30</td>\n",
       "      <td>13</td>\n",
       "      <td>2015-06-09</td>\n",
       "    </tr>\n",
       "    <tr>\n",
       "      <th>7343</th>\n",
       "      <td>Wyoming</td>\n",
       "      <td>313.72</td>\n",
       "      <td>148</td>\n",
       "      <td>317.38</td>\n",
       "      <td>226</td>\n",
       "      <td>161.30</td>\n",
       "      <td>13</td>\n",
       "      <td>2015-06-10</td>\n",
       "    </tr>\n",
       "    <tr>\n",
       "      <th>8159</th>\n",
       "      <td>Wyoming</td>\n",
       "      <td>313.72</td>\n",
       "      <td>148</td>\n",
       "      <td>317.38</td>\n",
       "      <td>226</td>\n",
       "      <td>161.30</td>\n",
       "      <td>13</td>\n",
       "      <td>2015-06-11</td>\n",
       "    </tr>\n",
       "  </tbody>\n",
       "</table>\n",
       "<p>22899 rows × 8 columns</p>\n",
       "</div>"
      ],
      "text/plain": [
       "         State   HighQ  HighQN    MedQ  MedQN    LowQ  LowQN       date\n",
       "20094  Alabama  339.65    1033  198.04    926  147.15    122 2013-12-27\n",
       "20859  Alabama  339.65    1033  198.04    926  147.15    122 2013-12-28\n",
       "21573  Alabama  339.75    1036  198.26    929  149.49    123 2013-12-29\n",
       "22287  Alabama  339.75    1036  198.81    930  149.49    123 2013-12-30\n",
       "22797  Alabama  339.42    1040  198.68    932  149.49    123 2013-12-31\n",
       "...        ...     ...     ...     ...    ...     ...    ...        ...\n",
       "4997   Wyoming  313.72     148  317.38    226  161.30     13 2015-06-07\n",
       "5762   Wyoming  313.72     148  317.38    226  161.30     13 2015-06-08\n",
       "6527   Wyoming  313.72     148  317.38    226  161.30     13 2015-06-09\n",
       "7343   Wyoming  313.72     148  317.38    226  161.30     13 2015-06-10\n",
       "8159   Wyoming  313.72     148  317.38    226  161.30     13 2015-06-11\n",
       "\n",
       "[22899 rows x 8 columns]"
      ]
     },
     "execution_count": 23,
     "metadata": {},
     "output_type": "execute_result"
    }
   ],
   "source": [
    "prices_sorted = prices_pd.sort_values(by=['State', 'date'], inplace=False)\n",
    "prices_sorted.ffill()"
   ]
  },
  {
   "cell_type": "markdown",
   "metadata": {},
   "source": [
    "<font color=\"GREEN\" size=\"+1\">**[R]**</font>\n",
    "si inplace à true, renvoie null et ecrase la dataFrame et la remplace par sa version triée \n",
    "alors que si inplace à false renvoie une copie triée de la dataFrame"
   ]
  },
  {
   "cell_type": "markdown",
   "metadata": {},
   "source": [
    "<font color=\"RED\" size=\"+1\">**[Q]**</font> **Changements des résultats**\n",
    "\n",
    "\n",
    "Recalculer la moyenne des prix pour la qualité <tt>Low</tt>. Qu'en est-il maintenant ? "
   ]
  },
  {
   "cell_type": "code",
   "execution_count": 24,
   "metadata": {},
   "outputs": [
    {
     "data": {
      "text/plain": [
       "203.74784718845632"
      ]
     },
     "execution_count": 24,
     "metadata": {},
     "output_type": "execute_result"
    }
   ],
   "source": [
    "prices_sorted[\"LowQ\"].mean()"
   ]
  },
  {
   "cell_type": "markdown",
   "metadata": {},
   "source": [
    "<font color=\"RED\" size=\"+1\">**[Q]**</font> **Tracé d'histogrammes**\n",
    "\n",
    "Donner les instructions Python pour tracer l'histogramme des moyennes des prix (<tt>LowQ</tt>) par état. \n",
    "\n",
    "Pour vous aider à construire un histogramme, vous pouvez étudier la page suivante:\n",
    "<http://matplotlib.org/examples/lines_bars_and_markers/barh_demo.html>"
   ]
  },
  {
   "cell_type": "code",
   "execution_count": 25,
   "metadata": {},
   "outputs": [],
   "source": [
    "def histo(fonct,qualite):\n",
    "    var=fonct.groupby('State').mean()\n",
    "    return var"
   ]
  },
  {
   "cell_type": "code",
   "execution_count": 26,
   "metadata": {},
   "outputs": [
    {
     "data": {
      "image/png": "[encoded data removed]",
      "text/plain": [
       "<Figure size 640x480 with 2 Axes>"
      ]
     },
     "metadata": {},
     "output_type": "display_data"
    }
   ],
   "source": [
    "plt.rcdefaults()\n",
    "fig, ax = plt.subplots()\n",
    "ax = fig.add_axes([0,0,2,2])\n",
    "\n",
    "etats=np.unique(prices_sorted[\"State\"])\n",
    "y_pos = np.arange(len(etats))\n",
    "moyenne=histo(prices_sorted,\"LowQ\")\n",
    "moyenne=moyenne[\"LowQ\"].values\n",
    "\n",
    "ax.barh(y_pos, moyenne,height=0.8, left=None, align='center',color='orange', ecolor='black')\n",
    "\n",
    "\n",
    "ax.set_yticks(y_pos)\n",
    "ax.set_yticklabels(etats)\n",
    "ax.invert_yaxis()  # labels read top-to-bottom\n",
    "ax.set_xlabel('moyenne')\n",
    "ax.set_title('Moyenne par etats')\n",
    "\n",
    "plt.show()"
   ]
  },
  {
   "cell_type": "markdown",
   "metadata": {},
   "source": [
    "<font color=\"RED\" size=\"+1\">**[Q]**</font> **Estimation de densité**\n",
    "\n",
    "Nous allons maintenant nous intéresser au calcul du nombre d'états concernés par une fourchette de prix. Pour cela:\n",
    "* Calculer le tableau des prix moyens de la facon suivante\n",
    "    \n"
   ]
  },
  {
   "cell_type": "code",
   "execution_count": 27,
   "metadata": {},
   "outputs": [
    {
     "name": "stdout",
     "output_type": "stream",
     "text": [
      "                            LowQ\n",
      "State                           \n",
      "Alabama               146.832603\n",
      "Alaska                387.232727\n",
      "Arizona               190.826860\n",
      "Arkansas              127.345455\n",
      "California            190.795992\n",
      "Colorado              226.790620\n",
      "Connecticut           253.024876\n",
      "Delaware              205.045992\n",
      "District of Columbia  210.563554\n",
      "Florida               153.205372\n",
      "Georgia               150.264091\n",
      "Hawaii                167.093843\n",
      "Idaho                 139.962851\n",
      "Illinois              186.545165\n",
      "Indiana               158.931653\n",
      "Iowa                  248.595537\n",
      "Kansas                120.199256\n",
      "Kentucky              124.156860\n",
      "Louisiana             146.776983\n",
      "Maine                 244.951653\n",
      "Maryland              190.185083\n",
      "Massachusetts         220.070000\n",
      "Michigan              252.644917\n",
      "Minnesota             182.683306\n",
      "Mississippi           142.751942\n",
      "Missouri              147.508595\n",
      "Montana               659.851074\n",
      "Nebraska              137.895909\n",
      "Nevada                241.792934\n",
      "New Hampshire         639.807810\n",
      "New Jersey            228.611777\n",
      "New Mexico             80.890950\n",
      "New York              201.340000\n",
      "North Carolina        150.810620\n",
      "North Dakota          333.968223\n",
      "Ohio                  165.169628\n",
      "Oklahoma              119.893926\n",
      "Oregon                170.173388\n",
      "Pennsylvania          193.229752\n",
      "Rhode Island          203.000661\n",
      "South Carolina        184.467603\n",
      "South Dakota          124.318017\n",
      "Tennessee             190.121570\n",
      "Texas                 143.362893\n",
      "Utah                  193.844298\n",
      "Vermont               189.600744\n",
      "Virginia              224.239008\n",
      "Washington            143.183388\n",
      "West Virginia         155.715165\n",
      "Wisconsin             239.565083\n",
      "Wyoming               161.300000\n",
      "===========\n",
      "[146.83260331 387.23272727 190.8268595  127.34545455 190.79599174\n",
      " 226.79061983 253.02487603 205.04599174 210.56355372 153.2053719\n",
      " 150.26409091 167.09384298 139.96285124 186.54516529 158.93165289\n",
      " 248.59553719 120.1992562  124.1568595  146.77698347 244.95165289\n",
      " 190.18508264 220.07       252.64491736 182.68330579 142.75194215\n",
      " 147.50859504 659.85107438 137.89590909 241.79293388 639.80780992\n",
      " 228.61177686  80.89095041 201.34       150.81061983 333.96822314\n",
      " 165.1696281  119.89392562 170.17338843 193.22975207 203.00066116\n",
      " 184.46760331 124.31801653 190.12157025 143.36289256 193.84429752\n",
      " 189.6007438  224.23900826 143.18338843 155.71516529 239.56508264\n",
      " 161.3       ]\n"
     ]
    }
   ],
   "source": [
    "prix_moyens=prices_pd[[\"State\",\"LowQ\"]].groupby([\"State\"]).mean()\n",
    "print(prix_moyens)\n",
    "print(\"===========\")\n",
    "prix_moyens=prix_moyens.values.ravel()\n",
    "print(prix_moyens)"
   ]
  },
  {
   "cell_type": "markdown",
   "metadata": {},
   "source": [
    "<font color=\"RED\" size=\"+1\">**[Q]**</font> **Bornes de variations**\n",
    "\n",
    "* Calculer les valeurs min et max des prix moyens"
   ]
  },
  {
   "cell_type": "code",
   "execution_count": 28,
   "metadata": {},
   "outputs": [
    {
     "name": "stdout",
     "output_type": "stream",
     "text": [
      "80.89095041322321 659.8510743801646\n"
     ]
    }
   ],
   "source": [
    "val_min=np.amin(prix_moyens)\n",
    "val_max=np.amax(prix_moyens)\n",
    "print(val_min,val_max)"
   ]
  },
  {
   "cell_type": "markdown",
   "metadata": {},
   "source": [
    "<font color=\"RED\" size=\"+1\">**[Q]**</font> **Calcul d'un effectif**\n",
    "\n",
    "Prendre un un intervalle de discrétisation de taille 20, et calculer l'effectif (sous forme d'un vecteur) du nombre d'états par ''bins''. Dessiner l'histogramme correspondant"
   ]
  },
  {
   "cell_type": "code",
   "execution_count": 29,
   "metadata": {},
   "outputs": [
    {
     "data": {
      "image/png": "[encoded data removed]",
      "text/plain": [
       "<Figure size 640x480 with 1 Axes>"
      ]
     },
     "metadata": {},
     "output_type": "display_data"
    }
   ],
   "source": [
    "v = (val_max - val_min)/20\n",
    "intervalles = np.array([val_min+(v*i) for i in range(21) ])\n",
    "effectif=np.zeros(20)\n",
    "for i in range(20):\n",
    "    for j in prix_moyens:\n",
    "        if j>=intervalles[i] and j<=intervalles[i+1]:\n",
    "            effectif[i]+=1\n",
    "\n",
    "fig, ax = plt.subplots()\n",
    "ax.bar(range(20), effectif, color = 'red')\n",
    "plt.show()"
   ]
  },
  {
   "cell_type": "code",
   "execution_count": 30,
   "metadata": {},
   "outputs": [
    {
     "data": {
      "text/plain": [
       "(array([ 1.,  6., 15., 11.,  6.,  8.,  0.,  0.,  1.,  0.,  1.,  0.,  0.,\n",
       "         0.,  0.,  0.,  0.,  0.,  0.,  2.]),\n",
       " array([ 80.89095041, 109.83895661, 138.78696281, 167.73496901,\n",
       "        196.68297521, 225.6309814 , 254.5789876 , 283.5269938 ,\n",
       "        312.475     , 341.4230062 , 370.3710124 , 399.3190186 ,\n",
       "        428.26702479, 457.21503099, 486.16303719, 515.11104339,\n",
       "        544.05904959, 573.00705579, 601.95506198, 630.90306818,\n",
       "        659.85107438]),\n",
       " <a list of 20 Patch objects>)"
      ]
     },
     "execution_count": 30,
     "metadata": {},
     "output_type": "execute_result"
    },
    {
     "data": {
      "image/png": "[encoded data removed]",
      "text/plain": [
       "<Figure size 640x480 with 1 Axes>"
      ]
     },
     "metadata": {},
     "output_type": "display_data"
    }
   ],
   "source": [
    "plt.hist(prix_moyens,bins=20,color=\"red\",alpha=0.8)"
   ]
  },
  {
   "cell_type": "markdown",
   "metadata": {},
   "source": [
    "<font color=\"RED\" size=\"+1\">**[Q]**</font> **Changement d'échelle**\n",
    "\n",
    "Prendre maintenant un intervalle de taille 40."
   ]
  },
  {
   "cell_type": "code",
   "execution_count": 31,
   "metadata": {},
   "outputs": [
    {
     "data": {
      "text/plain": [
       "(array([ 1.,  0.,  3.,  3., 10.,  5.,  1., 10.,  4.,  2.,  3.,  5.,  0.,\n",
       "         0.,  0.,  0.,  0.,  1.,  0.,  0.,  0.,  1.,  0.,  0.,  0.,  0.,\n",
       "         0.,  0.,  0.,  0.,  0.,  0.,  0.,  0.,  0.,  0.,  0.,  0.,  1.,\n",
       "         1.]),\n",
       " array([ 80.89095041,  95.36495351, 109.83895661, 124.31295971,\n",
       "        138.78696281, 153.26096591, 167.73496901, 182.20897211,\n",
       "        196.68297521, 211.15697831, 225.6309814 , 240.1049845 ,\n",
       "        254.5789876 , 269.0529907 , 283.5269938 , 298.0009969 ,\n",
       "        312.475     , 326.9490031 , 341.4230062 , 355.8970093 ,\n",
       "        370.3710124 , 384.8450155 , 399.3190186 , 413.79302169,\n",
       "        428.26702479, 442.74102789, 457.21503099, 471.68903409,\n",
       "        486.16303719, 500.63704029, 515.11104339, 529.58504649,\n",
       "        544.05904959, 558.53305269, 573.00705579, 587.48105888,\n",
       "        601.95506198, 616.42906508, 630.90306818, 645.37707128,\n",
       "        659.85107438]),\n",
       " <a list of 40 Patch objects>)"
      ]
     },
     "execution_count": 31,
     "metadata": {},
     "output_type": "execute_result"
    },
    {
     "data": {
      "image/png": "[encoded data removed]",
      "text/plain": [
       "<Figure size 640x480 with 1 Axes>"
      ]
     },
     "metadata": {},
     "output_type": "display_data"
    }
   ],
   "source": [
    "plt.hist(prix_moyens,bins=40,color=\"red\",alpha=0.8)"
   ]
  },
  {
   "cell_type": "markdown",
   "metadata": {},
   "source": [
    "On peut faire cela de la manière suivante avec Pandas:"
   ]
  },
  {
   "cell_type": "code",
   "execution_count": 32,
   "metadata": {},
   "outputs": [
    {
     "data": {
      "text/plain": [
       "<matplotlib.axes._subplots.AxesSubplot at 0x116a08e90>"
      ]
     },
     "execution_count": 32,
     "metadata": {},
     "output_type": "execute_result"
    },
    {
     "data": {
      "image/png": "[encoded data removed]",
      "text/plain": [
       "<Figure size 640x480 with 1 Axes>"
      ]
     },
     "metadata": {},
     "output_type": "display_data"
    }
   ],
   "source": [
    "effectif=pd.cut(prix_moyens,20)\n",
    "effectif2=pd.value_counts(effectif)\n",
    "effectif3=effectif2.reindex(effectif.categories)\n",
    "effectif3.plot(kind='bar')"
   ]
  },
  {
   "cell_type": "markdown",
   "metadata": {},
   "source": [
    "Et comme cela avec Numpy:"
   ]
  },
  {
   "cell_type": "code",
   "execution_count": 33,
   "metadata": {},
   "outputs": [
    {
     "data": {
      "text/plain": [
       "(array([ 1.,  6., 15., 11.,  6.,  8.,  0.,  0.,  1.,  0.,  1.,  0.,  0.,\n",
       "         0.,  0.,  0.,  0.,  0.,  0.,  2.]),\n",
       " array([ 80.89095041, 109.83895661, 138.78696281, 167.73496901,\n",
       "        196.68297521, 225.6309814 , 254.5789876 , 283.5269938 ,\n",
       "        312.475     , 341.4230062 , 370.3710124 , 399.3190186 ,\n",
       "        428.26702479, 457.21503099, 486.16303719, 515.11104339,\n",
       "        544.05904959, 573.00705579, 601.95506198, 630.90306818,\n",
       "        659.85107438]),\n",
       " <a list of 20 Patch objects>)"
      ]
     },
     "execution_count": 33,
     "metadata": {},
     "output_type": "execute_result"
    },
    {
     "data": {
      "image/png": "[encoded data removed]",
      "text/plain": [
       "<Figure size 640x480 with 1 Axes>"
      ]
     },
     "metadata": {},
     "output_type": "display_data"
    }
   ],
   "source": [
    "plt.hist(prix_moyens,bins=20)"
   ]
  },
  {
   "cell_type": "markdown",
   "metadata": {},
   "source": [
    "L'estimation de densité en pandas peut se faire ainsi"
   ]
  },
  {
   "cell_type": "code",
   "execution_count": 34,
   "metadata": {},
   "outputs": [
    {
     "data": {
      "text/plain": [
       "<matplotlib.axes._subplots.AxesSubplot at 0x116cec450>"
      ]
     },
     "execution_count": 34,
     "metadata": {},
     "output_type": "execute_result"
    },
    {
     "data": {
      "image/png": "[encoded data removed]",
      "text/plain": [
       "<Figure size 640x480 with 1 Axes>"
      ]
     },
     "metadata": {},
     "output_type": "display_data"
    }
   ],
   "source": [
    "effectif=pd.DataFrame(prix_moyens)\n",
    "effectif.plot(kind='kde')"
   ]
  },
  {
   "cell_type": "markdown",
   "metadata": {},
   "source": [
    "### Densité cumulée\n",
    "\n",
    "<font color=\"RED\" size=\"+1\">**[Q]**</font> **Calcul de la densité cumulée**\n",
    "\n",
    "\n",
    "Calculer la densité cumulée à partir des prix moyens, avec un intervalle de discrétisation donné et la représenter graphiquement. \n",
    "\n",
    "La méthode doit rendre deux tableaux: l'abscisse $X$ (les prix moyens possibles entre prix min et prix max), et la densité associée"
   ]
  },
  {
   "cell_type": "code",
   "execution_count": 35,
   "metadata": {},
   "outputs": [
    {
     "name": "stdout",
     "output_type": "stream",
     "text": [
      "[ 80.89095041 109.83895661 138.78696281 167.73496901 196.68297521\n",
      " 225.6309814  254.5789876  283.5269938  312.475      341.4230062\n",
      " 370.3710124  399.3190186  428.26702479 457.21503099 486.16303719\n",
      " 515.11104339 544.05904959 573.00705579 601.95506198 630.90306818\n",
      " 659.85107438]\n",
      "[0.01960784 0.1372549  0.43137255 0.64705882 0.76470588 0.92156863\n",
      " 0.92156863 0.92156863 0.94117647 0.94117647 0.96078431 0.96078431\n",
      " 0.96078431 0.96078431 0.96078431 0.96078431 0.96078431 0.96078431\n",
      " 0.96078431 1.        ]\n"
     ]
    },
    {
     "data": {
      "image/png": "[encoded data removed]",
      "text/plain": [
       "<Figure size 640x480 with 1 Axes>"
      ]
     },
     "metadata": {},
     "output_type": "display_data"
    }
   ],
   "source": [
    "densite, x, patches = plt.hist(prix_moyens,bins=20,density=True,cumulative=True)\n",
    "print(x)\n",
    "print(densite)"
   ]
  },
  {
   "cell_type": "markdown",
   "metadata": {},
   "source": [
    "<font color=\"RED\" size=\"+1\">**[Q]**</font> **Quartiles**\n",
    "\n",
    "Ecrire la fonction Q(alpha,x,y) qui permet de trouver le quartile(alpha,x,y).\n",
    "- quartile(0.5,x,densite) correspondra à la médiane. \n",
    "\n",
    "Calculer et représenter graphiquement le boxplot.\n",
    "\n",
    "Remarque: un boxplot en pandas se fait ainsi:\n",
    "        \n",
    "    a=pd.DataFrame(prix_moyens)\n",
    "    a.boxplot()\n"
   ]
  },
  {
   "cell_type": "code",
   "execution_count": 36,
   "metadata": {},
   "outputs": [
    {
     "name": "stdout",
     "output_type": "stream",
     "text": [
      "196.6829752066115\n",
      "167.73496900826441\n",
      "225.63098140495856\n"
     ]
    },
    {
     "data": {
      "text/plain": [
       "<matplotlib.axes._subplots.AxesSubplot at 0x1a19214d10>"
      ]
     },
     "execution_count": 36,
     "metadata": {},
     "output_type": "execute_result"
    },
    {
     "data": {
      "image/png": "[encoded data removed]",
      "text/plain": [
       "<Figure size 640x480 with 1 Axes>"
      ]
     },
     "metadata": {},
     "output_type": "display_data"
    }
   ],
   "source": [
    "def Q(alpha, x, y):\n",
    "    i = 0\n",
    "    while y[i] < alpha:\n",
    "        i += 1\n",
    "    return x[i+1]\n",
    "\n",
    "\n",
    "\n",
    "print(Q(0.5, x, densite))\n",
    "print(Q(0.25, x, densite))\n",
    "print(Q(0.75, x, densite))\n",
    "    \n",
    "\n",
    "a=pd.DataFrame(prix_moyens)\n",
    "a.boxplot()"
   ]
  },
  {
   "cell_type": "markdown",
   "metadata": {},
   "source": [
    "### Variance\n",
    "\n",
    "<font color=\"RED\" size=\"+1\">**[Q]**</font> **Calcul de variances**\n",
    "\n",
    "On souhaite maintenant rajouter une colonne <tt>HighQ_var</tt> aux données originales contenant la variance des prix par état. Donner les intructions Python correspondantes.\n",
    "\n",
    "**ATTENTION**, cela suppose de traiter les états (State) les uns après les autres..."
   ]
  },
  {
   "cell_type": "code",
   "execution_count": 37,
   "metadata": {},
   "outputs": [
    {
     "name": "stdout",
     "output_type": "stream",
     "text": [
      "                           HighQ\n",
      "State                           \n",
      "Alabama                 2.370749\n",
      "Alaska                 31.137567\n",
      "Arizona                 4.063247\n",
      "Arkansas               47.141986\n",
      "California              2.982686\n",
      "Colorado                6.356718\n",
      "Connecticut            18.372574\n",
      "Delaware               24.827685\n",
      "District of Columbia    3.976920\n",
      "Florida                 5.258257\n",
      "Georgia                13.400555\n",
      "Hawaii                  9.469260\n",
      "Idaho                   0.840436\n",
      "Illinois                5.790658\n",
      "Indiana                 3.453509\n",
      "Iowa                    7.875726\n",
      "Kansas                  3.951313\n",
      "Kentucky                1.074988\n",
      "Louisiana              23.778186\n",
      "Maine                  22.066151\n",
      "Maryland               34.891397\n",
      "Massachusetts          12.740908\n",
      "Michigan               18.449891\n",
      "Minnesota              79.051308\n",
      "Mississippi             7.309370\n",
      "Missouri               54.772887\n",
      "Montana                10.967851\n",
      "Nebraska               30.419953\n",
      "Nevada                  1.848997\n",
      "New Hampshire          51.118775\n",
      "New Jersey             12.833771\n",
      "New Mexico              6.427070\n",
      "New York               12.245147\n",
      "North Carolina         16.311250\n",
      "North Dakota           55.694703\n",
      "Ohio                    2.698508\n",
      "Oklahoma               31.829491\n",
      "Oregon                  7.561688\n",
      "Pennsylvania           12.866467\n",
      "Rhode Island           44.814466\n",
      "South Carolina         14.913978\n",
      "South Dakota          138.362692\n",
      "Tennessee              14.840045\n",
      "Texas                  16.169573\n",
      "Utah                    4.275242\n",
      "Vermont                12.881744\n",
      "Virginia               11.862465\n",
      "Washington              1.347089\n",
      "West Virginia           8.248240\n",
      "Wisconsin              11.744638\n",
      "Wyoming               219.612495\n"
     ]
    }
   ],
   "source": [
    " HighQ_var = prices_pd[[\"State\",\"HighQ\"]].groupby([\"State\"]).var()\n",
    "print(HighQ_var)"
   ]
  },
  {
   "cell_type": "markdown",
   "metadata": {},
   "source": [
    "# Travail de synthèse : La Californie\n",
    "\n",
    "Pandas permet de faire la synthèse de données de la manière suivante (pour le DataFrame de nom <tt>df</tt>): \n",
    "    \n",
    "    df.describe()\n",
    "    \n",
    "\n",
    "<font color=\"RED\" size=\"+1\">**[Q]**</font> Vérifier que les valeurs trouvées sur l'état de la Californie correspondent aux valeurs trouvées grâce à vos différentes fonctions. \n",
    "\n",
    "Pour cela, donner dans ce qui suit le code qui utilise vos fonctions (moyennes, variance, et quartiles) ainsi que le résutlats de la fonction <tt>describe</tt>.\n"
   ]
  },
  {
   "cell_type": "code",
   "execution_count": 38,
   "metadata": {},
   "outputs": [
    {
     "name": "stdout",
     "output_type": "stream",
     "text": [
      "<pandas.core.groupby.generic.DataFrameGroupBy object at 0x1a1937bed0>\n",
      "            HighQ                                                        \\\n",
      "            count        mean       std     min     25%     50%     75%   \n",
      "State                                                                     \n",
      "California  449.0  245.376125  1.727046  241.84  244.48  245.31  246.22   \n",
      "\n",
      "                   HighQN                ...   LowQ          LowQN  \\\n",
      "               max  count          mean  ...    75%     max  count   \n",
      "State                                    ...                         \n",
      "California  248.82  449.0  14947.073497  ...  192.2  193.88  449.0   \n",
      "\n",
      "                                                                         \n",
      "                  mean         std    min    25%    50%     75%     max  \n",
      "State                                                                    \n",
      "California  976.298441  120.246714  770.0  878.0  982.0  1060.0  1232.0  \n",
      "\n",
      "[1 rows x 48 columns]\n"
     ]
    }
   ],
   "source": [
    "californie = prices_pd[prices_pd['State']==\"California\"].groupby([\"State\"])\n",
    "print(californie)\n",
    "print(californie.describe())"
   ]
  },
  {
   "cell_type": "markdown",
   "metadata": {},
   "source": [
    "<font color=\"RED\" size=\"+1\">**[Q]**</font> **Matrice de corrélation**\n",
    "\n",
    "\n",
    "Nous allons maintenant nous intéresser à calculer la corrélation entre les prix à New York et les prix en Californie.\n",
    "\n",
    "Commencer par représenter le nuage des points des prix (par date) en Californie (axe $X$) et à New York (axe $Y$) pour la bonne qualité.\n",
    "\n",
    "Pour cela,  on commence par créer un DataFrame avec ces informations:"
   ]
  },
  {
   "cell_type": "code",
   "execution_count": 45,
   "metadata": {},
   "outputs": [
    {
     "data": {
      "text/html": [
       "<div>\n",
       "<style scoped>\n",
       "    .dataframe tbody tr th:only-of-type {\n",
       "        vertical-align: middle;\n",
       "    }\n",
       "\n",
       "    .dataframe tbody tr th {\n",
       "        vertical-align: top;\n",
       "    }\n",
       "\n",
       "    .dataframe thead th {\n",
       "        text-align: right;\n",
       "    }\n",
       "</style>\n",
       "<table border=\"1\" class=\"dataframe\">\n",
       "  <thead>\n",
       "    <tr style=\"text-align: right;\">\n",
       "      <th></th>\n",
       "      <th>State_x</th>\n",
       "      <th>HighQ_x</th>\n",
       "      <th>HighQN_x</th>\n",
       "      <th>MedQ_x</th>\n",
       "      <th>MedQN_x</th>\n",
       "      <th>LowQ_x</th>\n",
       "      <th>LowQN_x</th>\n",
       "      <th>date</th>\n",
       "      <th>State_y</th>\n",
       "      <th>HighQ_y</th>\n",
       "      <th>HighQN_y</th>\n",
       "      <th>MedQ_y</th>\n",
       "      <th>MedQN_y</th>\n",
       "      <th>LowQ_y</th>\n",
       "      <th>LowQN_y</th>\n",
       "    </tr>\n",
       "  </thead>\n",
       "  <tbody>\n",
       "    <tr>\n",
       "      <th>0</th>\n",
       "      <td>California</td>\n",
       "      <td>248.78</td>\n",
       "      <td>12096</td>\n",
       "      <td>193.56</td>\n",
       "      <td>12812</td>\n",
       "      <td>192.92</td>\n",
       "      <td>778</td>\n",
       "      <td>2014-01-01</td>\n",
       "      <td>New York</td>\n",
       "      <td>351.98</td>\n",
       "      <td>5800</td>\n",
       "      <td>268.88</td>\n",
       "      <td>5824</td>\n",
       "      <td>190.38</td>\n",
       "      <td>482</td>\n",
       "    </tr>\n",
       "    <tr>\n",
       "      <th>1</th>\n",
       "      <td>California</td>\n",
       "      <td>243.96</td>\n",
       "      <td>16512</td>\n",
       "      <td>189.35</td>\n",
       "      <td>19151</td>\n",
       "      <td>NaN</td>\n",
       "      <td>1096</td>\n",
       "      <td>2015-01-01</td>\n",
       "      <td>New York</td>\n",
       "      <td>343.80</td>\n",
       "      <td>7840</td>\n",
       "      <td>263.56</td>\n",
       "      <td>8716</td>\n",
       "      <td>NaN</td>\n",
       "      <td>616</td>\n",
       "    </tr>\n",
       "    <tr>\n",
       "      <th>2</th>\n",
       "      <td>California</td>\n",
       "      <td>248.20</td>\n",
       "      <td>12571</td>\n",
       "      <td>192.80</td>\n",
       "      <td>13406</td>\n",
       "      <td>191.94</td>\n",
       "      <td>804</td>\n",
       "      <td>2014-02-01</td>\n",
       "      <td>New York</td>\n",
       "      <td>352.35</td>\n",
       "      <td>6051</td>\n",
       "      <td>268.50</td>\n",
       "      <td>6115</td>\n",
       "      <td>190.16</td>\n",
       "      <td>497</td>\n",
       "    </tr>\n",
       "    <tr>\n",
       "      <th>3</th>\n",
       "      <td>California</td>\n",
       "      <td>243.30</td>\n",
       "      <td>16904</td>\n",
       "      <td>188.95</td>\n",
       "      <td>19764</td>\n",
       "      <td>NaN</td>\n",
       "      <td>1123</td>\n",
       "      <td>2015-02-01</td>\n",
       "      <td>New York</td>\n",
       "      <td>343.09</td>\n",
       "      <td>8058</td>\n",
       "      <td>262.93</td>\n",
       "      <td>9015</td>\n",
       "      <td>NaN</td>\n",
       "      <td>628</td>\n",
       "    </tr>\n",
       "    <tr>\n",
       "      <th>4</th>\n",
       "      <td>California</td>\n",
       "      <td>247.60</td>\n",
       "      <td>12988</td>\n",
       "      <td>192.97</td>\n",
       "      <td>13906</td>\n",
       "      <td>191.40</td>\n",
       "      <td>839</td>\n",
       "      <td>2014-03-01</td>\n",
       "      <td>New York</td>\n",
       "      <td>351.18</td>\n",
       "      <td>6209</td>\n",
       "      <td>267.69</td>\n",
       "      <td>6356</td>\n",
       "      <td>189.64</td>\n",
       "      <td>507</td>\n",
       "    </tr>\n",
       "  </tbody>\n",
       "</table>\n",
       "</div>"
      ],
      "text/plain": [
       "      State_x  HighQ_x  HighQN_x  MedQ_x  MedQN_x  LowQ_x  LowQN_x       date  \\\n",
       "0  California   248.78     12096  193.56    12812  192.92      778 2014-01-01   \n",
       "1  California   243.96     16512  189.35    19151     NaN     1096 2015-01-01   \n",
       "2  California   248.20     12571  192.80    13406  191.94      804 2014-02-01   \n",
       "3  California   243.30     16904  188.95    19764     NaN     1123 2015-02-01   \n",
       "4  California   247.60     12988  192.97    13906  191.40      839 2014-03-01   \n",
       "\n",
       "    State_y  HighQ_y  HighQN_y  MedQ_y  MedQN_y  LowQ_y  LowQN_y  \n",
       "0  New York   351.98      5800  268.88     5824  190.38      482  \n",
       "1  New York   343.80      7840  263.56     8716     NaN      616  \n",
       "2  New York   352.35      6051  268.50     6115  190.16      497  \n",
       "3  New York   343.09      8058  262.93     9015     NaN      628  \n",
       "4  New York   351.18      6209  267.69     6356  189.64      507  "
      ]
     },
     "execution_count": 45,
     "metadata": {},
     "output_type": "execute_result"
    }
   ],
   "source": [
    "prix_ny=prices_pd[prices_pd['State']=='New York']\n",
    "prix_ca=prices_pd[prices_pd['State']=='California']\n",
    "prix_ca_ny=prix_ca.merge(prix_ny,on='date')\n",
    "prix_ca_ny.head()\n",
    "\n",
    "# Exécuter cette boîte et commenter le résultat obtenu"
   ]
  },
  {
   "cell_type": "markdown",
   "metadata": {},
   "source": [
    "<font color=\"RED\" size=\"+1\">**[Q]**</font> **Nuages de points*\n",
    "\n",
    "\n",
    "Représenter graphiquement le nuage des points : voir <http://matplotlib.org/examples/shapes_and_collections/scatter_demo.html>"
   ]
  },
  {
   "cell_type": "code",
   "execution_count": 40,
   "metadata": {},
   "outputs": [
    {
     "data": {
      "text/plain": [
       "<matplotlib.collections.PathCollection at 0x1a1921b990>"
      ]
     },
     "execution_count": 40,
     "metadata": {},
     "output_type": "execute_result"
    },
    {
     "data": {
      "image/png": "[encoded data removed]",
      "text/plain": [
       "<Figure size 640x480 with 1 Axes>"
      ]
     },
     "metadata": {},
     "output_type": "display_data"
    }
   ],
   "source": [
    "plt.scatter(prix_ny[\"HighQ\"], prix_ca[\"HighQ\"],s=3)\n",
    "#plt.scatter(prix_ny[\"LowQ\"], prix_ca[\"LowQ\"],s=3)\n",
    "#plt.scatter(prix_ny[\"MedQ\"], prix_ca[\"MedQ\"],s=3)\n"
   ]
  },
  {
   "cell_type": "markdown",
   "metadata": {},
   "source": [
    "<font color=\"RED\" size=\"+1\">**[Q]**</font> **Corrélations**\n",
    "\n",
    "A l'aide de la fonction moyenne écrite précédemment, écrire une fonction <tt>correlation(x,y)</tt> qui calcule la corrélation lineaire entre deux tableaux Numpy."
   ]
  },
  {
   "cell_type": "code",
   "execution_count": 41,
   "metadata": {},
   "outputs": [],
   "source": [
    "def correlation(x,y):\n",
    "    moyX = moyenne(x)\n",
    "    moyY = moyenne(y)\n",
    "    n = len(x)\n",
    "    ecartX = 0\n",
    "    ecartY = 0\n",
    "    covariance =0\n",
    "    for i in range(n):\n",
    "        ecartX += (x[i]-moyX)**2\n",
    "        ecartY += (y[i]-moyY)**2\n",
    "        covariance += (x[i]-moyX)*(y[i]-moyY)\n",
    "    covariance = covariance/(n-1)\n",
    "    ecartX = math.sqrt(ecartX/(n-1))\n",
    "    ecartY = math.sqrt(ecartY/(n-1))\n",
    "    return covariance/(ecartX*ecartY)"
   ]
  },
  {
   "cell_type": "code",
   "execution_count": 50,
   "metadata": {},
   "outputs": [
    {
     "name": "stdout",
     "output_type": "stream",
     "text": [
      "La correlation est :0.979044\n"
     ]
    }
   ],
   "source": [
    "# Appliquer votre fonction avec l'instruction suivante:\n",
    "\n",
    "print(\"La correlation est :%f\"%correlation(prix_ca_ny[\"HighQ_x\"].values,prix_ca_ny[\"HighQ_y\"].values))\n",
    "#print(\"La correlation est :%f\"%correlation(prix_ca_ny[\"HighQ_x\"].values,prix_ca_ny[\"HighQ_x\"].values))\n",
    "#print(np.corrcoef(prix_ca_ny[\"HighQ_x\"].values,prix_ca_ny[\"HighQ_y\"].values))"
   ]
  },
  {
   "cell_type": "markdown",
   "metadata": {},
   "source": [
    "<font color=\"RED\" size=\"+1\">**[Q]**</font> **Matrice de corrélations**\n",
    "\n",
    "Calculer la matrice des corrélations pour toutes les combinaisons d'états."
   ]
  },
  {
   "cell_type": "code",
   "execution_count": 51,
   "metadata": {},
   "outputs": [
    {
     "name": "stdout",
     "output_type": "stream",
     "text": [
      "[[ 1.         -0.77737715  0.76366072 ... -0.18252555  0.67604259\n",
      "   0.74232819]\n",
      " [-0.77737715  1.         -0.75926388 ...  0.04837347 -0.63547145\n",
      "  -0.74759309]\n",
      " [ 0.76366072 -0.75926388  1.         ...  0.299015    0.95287529\n",
      "   0.8849269 ]\n",
      " ...\n",
      " [-0.18252555  0.04837347  0.299015   ...  1.          0.34885845\n",
      "   0.14178241]\n",
      " [ 0.67604259 -0.63547145  0.95287529 ...  0.34885845  1.\n",
      "   0.89437449]\n",
      " [ 0.74232819 -0.74759309  0.8849269  ...  0.14178241  0.89437449\n",
      "   1.        ]]\n"
     ]
    }
   ],
   "source": [
    "etats = np.unique(prices_pd[\"State\"])\n",
    "matrice = np.zeros((len(etats),len(etats)))\n",
    "for i in range(len(etats)):\n",
    "    prix_i=prices_pd[prices_pd['State']==etats[i]]\n",
    "    for j in range(len(etats)):\n",
    "        prix_j=prices_pd[prices_pd['State']==etats[j]]\n",
    "        prix_j_i=prix_j.merge(prix_i,on='date')\n",
    "        matrice[i,j]=correlation(prix_j_i[\"HighQ_x\"].values,prix_j_i[\"HighQ_y\"].values)\n",
    "print(matrice)"
   ]
  },
  {
   "cell_type": "markdown",
   "metadata": {},
   "source": [
    "<font color=\"RED\" size=\"+1\">**[Q]**</font> **D'autres corrélations...**\n",
    "\n",
    "\n",
    "Calculer les correlations entre le prix (<tt>low</tt> et <tt>high</tt>) en fonction du revenu moyen par état disponible dans le tableau <tt>demography_pd</tt> chargé au début de cette feuille Jupyter. \n",
    "\n",
    "Que peut-on en conclure ?"
   ]
  },
  {
   "cell_type": "code",
   "execution_count": 52,
   "metadata": {},
   "outputs": [
    {
     "name": "stdout",
     "output_type": "stream",
     "text": [
      "La correlation entre le prix (qualite Low) et le revenu est :0.121546\n",
      "La correlation le prix (qualite High) et le revenuest :0.285330\n"
     ]
    }
   ],
   "source": [
    "revenu = demography_pd[[\"region\",\"per_capita_income\"]]\n",
    "HighQ_mean = prices_pd[[\"State\",\"HighQ\"]].groupby([\"State\"]).mean()\n",
    "LowQ_mean = prices_pd[[\"State\",\"LowQ\"]].groupby([\"State\"]).mean()\n",
    "\n",
    "LowQ_mean['region'] = LowQ_mean.index.str.lower()\n",
    "HighQ_mean['region'] = HighQ_mean.index.str.lower()\n",
    "rev_LOW=revenu.merge(LowQ_mean,on='region')\n",
    "rev_HIGH=revenu.merge(HighQ_mean,on='region')\n",
    "print(\"La correlation entre le prix (qualite Low) et le revenu est :%f\"%correlation(rev_HIGH[\"HighQ\"].values,rev_HIGH[\"per_capita_income\"].values))\n",
    "print(\"La correlation le prix (qualite High) et le revenuest :%f\"%correlation(rev_LOW[\"LowQ\"].values,rev_LOW[\"per_capita_income\"].values))"
   ]
  },
  {
   "cell_type": "code",
   "execution_count": 53,
   "metadata": {},
   "outputs": [
    {
     "data": {
      "text/plain": [
       "<matplotlib.collections.PathCollection at 0x1a19677850>"
      ]
     },
     "execution_count": 53,
     "metadata": {},
     "output_type": "execute_result"
    },
    {
     "data": {
      "image/png": "[encoded data removed]",
      "text/plain": [
       "<Figure size 640x480 with 1 Axes>"
      ]
     },
     "metadata": {},
     "output_type": "display_data"
    }
   ],
   "source": [
    "plt.scatter(revenu[\"per_capita_income\"], HighQ_mean[\"HighQ\"],s=5)"
   ]
  },
  {
   "cell_type": "code",
   "execution_count": 54,
   "metadata": {},
   "outputs": [
    {
     "data": {
      "text/plain": [
       "<matplotlib.collections.PathCollection at 0x1a1969f7d0>"
      ]
     },
     "execution_count": 54,
     "metadata": {},
     "output_type": "execute_result"
    },
    {
     "data": {
      "image/png": "[encoded data removed]",
      "text/plain": [
       "<Figure size 640x480 with 1 Axes>"
      ]
     },
     "metadata": {},
     "output_type": "display_data"
    }
   ],
   "source": [
    "plt.scatter(revenu[\"per_capita_income\"], LowQ_mean[\"LowQ\"],s=5)"
   ]
  },
  {
   "cell_type": "markdown",
   "metadata": {},
   "source": [
    "CONCLUSION : \n",
    "   + pas de corrélation entre les prix High et le revenu moyen car la correlation est proche de 0.\n",
    "   + corrélation peu significative entre les prix Low et le revenu."
   ]
  },
  {
   "cell_type": "markdown",
   "metadata": {},
   "source": [
    "# Travail pour la fin de TME + Maison\n",
    "\n",
    "Travail de rendu (à faire avant le prochain TP):\n",
    "* Vous avez implémenté et vu comment calculer tout un ensemble d'indicateurs statistiques assez simples. \n",
    "* Vous avez vu comment produire de jolis graphiques\n",
    "\n",
    "## Travail à faire : proposez une analyse originale a l'aide des données disponibles ici : http://opendata.paris.fr et des indicateurs/graphiques vus en cours et aujourd'hui\n",
    "* Voir  http://matplotlib.org/gallery.html pour les visualisations\n",
    "\n",
    "#### Exemple : \n",
    "* (Récupération de données: ) Télécharger les données ici : \n",
    "https://opendata.paris.fr/explore/dataset/les-1000-titres-les-plus-reserves-dans-les-bibliotheques-de-pret/information/\n",
    "* Calculer l'histogramme et la densité des différents titres \n",
    "* Proposer une visualisation des 10 auteurs les plus demandés (en combinant leur ouvrages)\n",
    "* ==> Proposer un nuage de mots contenus dans les titres à partir des données extraites (outil possible: https://www.jasondavies.com/wordcloud/ ou  https://github.com/mbostock/d3/wiki/Gallery)\n",
    "\n",
    "\n",
    "\n",
    "    "
   ]
  },
  {
   "cell_type": "code",
   "execution_count": null,
   "metadata": {},
   "outputs": [],
   "source": []
  }
 ],
 "metadata": {
  "kernelspec": {
   "display_name": "Python 3",
   "language": "python",
   "name": "python3"
  },
  "language_info": {
   "codemirror_mode": {
    "name": "ipython",
    "version": 3
   },
   "file_extension": ".py",
   "mimetype": "text/x-python",
   "name": "python",
   "nbconvert_exporter": "python",
   "pygments_lexer": "ipython3",
   "version": "3.7.6"
  }
 },
 "nbformat": 4,
 "nbformat_minor": 1
}
