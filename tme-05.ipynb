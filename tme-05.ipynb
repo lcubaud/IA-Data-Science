{
 "cells": [
  {
   "cell_type": "markdown",
   "metadata": {},
   "source": [
    "IA & Data science (LU3IN0226) -- 2019-2020\n",
    "--------\n",
    "*&copy; Equipe pédagogique: Gauvain Bourgne, Vincent Guigue, Marie-Jeanne Lesot, Christophe Marsala, Olivier Schwander.*\n"
   ]
  },
  {
   "cell_type": "markdown",
   "metadata": {},
   "source": [
    "# TD-TME05: visualisation et expérimentations"
   ]
  },
  {
   "cell_type": "markdown",
   "metadata": {},
   "source": [
    "<font size=\"+1\" color=\"RED\">**[Q]**</font> **Indiquer dans la boîte ci-dessous vos noms et prénoms :**"
   ]
  },
  {
   "cell_type": "markdown",
   "metadata": {},
   "source": [
    "Cubaud Lucie"
   ]
  },
  {
   "cell_type": "markdown",
   "metadata": {},
   "source": [
    "<font color=\"RED\" size=\"+1\">**[Q]**</font> **Renommer ce fichier ipython**\n",
    "\n",
    "Tout en haut de cette page, cliquer sur <tt>tme-05</tt> et rajouter à la suite de <tt>tme-05</tt> les noms des membres du binômes séparés par un tiret.\n",
    "\n",
    "Par exemple, pour le binôme Luke Skywalker et Han Solo, le nom de fichier devient `tme-05-Skywalker-Solo`\n",
    "\n",
    "Penser à sauvegarder fréquemment le fichier en cours de travail :\n",
    "- soit en cliquant sur l'icône \"disquette\"\n",
    "- soit par la combinaison de touches [Ctrl]-S"
   ]
  },
  {
   "cell_type": "markdown",
   "metadata": {},
   "source": [
    "<font color=\"RED\" size=\"+1\">**[Q]**</font> **Mise à jour de la librairie `iads`**\n",
    "\n",
    "En premier lieu, vérifier que votre librairie `iads` est bien à jour : elle doit maintenant contenir toutes les fonctions et classes mises au point et testées dans les tme précédents. Une fois à jour, importer la librairie pour pouvoir l'utiliser dans ce notebook."
   ]
  },
  {
   "cell_type": "code",
   "execution_count": 1,
   "metadata": {},
   "outputs": [],
   "source": [
    "# Importation des librairies standards:\n",
    "import numpy as np\n",
    "import pandas as pd\n",
    "import matplotlib.pyplot as plt\n",
    "%matplotlib inline  \n",
    "\n",
    "# Importation de votre librairie iads:\n",
    "# La ligne suivante permet de préciser le chemin d'accès à la librairie iads\n",
    "import sys\n",
    "sys.path.append('../')   # iads doit être dans le répertoire frère du répertoire courant !\n",
    "\n",
    "# Importation de la librairie iads\n",
    "import iads as iads\n",
    "\n",
    "# importation de Classifiers\n",
    "from iads import Classifiers as cl\n",
    "\n",
    "# importation de utils\n",
    "from iads import utils as ut\n"
   ]
  },
  {
   "cell_type": "markdown",
   "metadata": {},
   "source": [
    "### Objectifs de ce TME\n",
    "\n",
    "L'objectif de ce TME est de terminer les implémentations des algorithmes du perceptron et sa variante à noyau ainsi que les $k$ plus proches voisins, de réaliser un ensemble d'expérimentations pour les comparer, et de mettre en oeuvre des outils de visualisation."
   ]
  },
  {
   "cell_type": "markdown",
   "metadata": {},
   "source": [
    "En reprenant la fonction écrite dans les TME précédents, on commence par générer un dataset pour tester les fonctions."
   ]
  },
  {
   "cell_type": "code",
   "execution_count": 2,
   "metadata": {},
   "outputs": [
    {
     "name": "stdout",
     "output_type": "stream",
     "text": [
      "Le dataset généré avec  20 lignes de  2 colonnes.\n"
     ]
    },
    {
     "data": {
      "image/png": "[encoded data removed]",
      "text/plain": [
       "<Figure size 432x288 with 1 Axes>"
      ]
     },
     "metadata": {
      "needs_background": "light"
     },
     "output_type": "display_data"
    }
   ],
   "source": [
    "np.random.seed(42)   # supprimer cette ligne une fois la mise au point terminée\n",
    "\n",
    "# Exemple d'utilisation:\n",
    "\n",
    "data_desc, data_label = ut.genere_dataset_gaussian(np.array([1,1]),np.array([[1,0],[0,1]]), \\\n",
    "                                                   np.array([-1,-1]),np.array([[1,0],[0,1]]),\\\n",
    "                                                   10)\n",
    "\n",
    "print(\"Le dataset généré avec \", np.shape(data_desc)[0], \"lignes de \", np.shape(data_desc)[1], \"colonnes.\")\n",
    "\n",
    "# Affichage :\n",
    "ut.plot2DSet(data_desc,data_label)\n"
   ]
  },
  {
   "cell_type": "markdown",
   "metadata": {},
   "source": [
    "## Expérimentations\n",
    "\n",
    "Pour expérimenter un classifieur, il est nécessaire de posséder deux datasets distincts: \n",
    "- le dataset d'apprentissage, qui se compose donc de 2 arrays: `train_desc` et `train_labels`\n",
    "- et le dataset de test, qui se compose de 2 arrays: `test_desc` et `test_labels`. \n",
    "\n",
    "\n",
    "On commence par construire le classifieur avec le dataset d'apprentisage, puis, on évalue sa performance en 2 temps :\n",
    "- on calcule son **accuracy d'apprentissage** qui est l'accuracy obtenue sur le dataset d'apprentissage \n",
    "- on calcule son **accuracy de test** qui est l'accuracy obtenue sur le dataset de test\n",
    "\n",
    "La première valeur mesure combien le classifieur a appris les données d'apprentissage, la deuxième valeur mesure sa performance en généralisation."
   ]
  },
  {
   "cell_type": "markdown",
   "metadata": {},
   "source": [
    "### Retour sur la validation croisée (correctif)\n",
    "\n",
    "Le principe (corrigé par rapport à ce qui a été dit dans le TME 04) d'une expérimentation par validation croisée (ou *cross-validation*) est le suivant.\n",
    "\n",
    "<ol>\n",
    "    <li>Choisir un algorithme de construction de classifieur à évaluer</li>\n",
    "    <li>Générer un dataset suffisamment grand. Soit $DS$ ce dataset</li>\n",
    "    <li>Découper $DS$ en 10 datasets de taille égale tels qu'ils contiennent tous la même proportion d'exemples de chaque classe que $DS$, les exemples pour constituer chacun de ces datasets sont tirés aléatoirement parmi les exemples $DS$ par un tirage <b>sans remise</b>. On appelle $DS0$, $DS1$,..., $DS9$ ces 10 datasets.</li>\n",
    "    <li>Construire un classifieur : <font color=\"RED\">on prend $DS0$ comme <b>dataset de test</b> et on regroupe les 9 autres datasets $DS1$,...,$DS9$ pour constituer le <b>dataset d'apprentissage</b></font>. Les 9 datasets utilisés pour construire le classifieur servent à évaluer l'accuracy d'apprentissage $accA_0$ et le dataset $DS0$ sert à évaluer l'accuracy de test $accT_0$ de ce classifieur.</li>\n",
    "    <li>Construire un nouveau classifier en prenant $DS1$ comme dataset de test et les autres datasets $DS0$, $DS2$,...,$DS9$ comme dataset d'apprentissage et évaluer l'accuracy d'apprentissage $accA_1$ et l'accuracy de test $accT_1$ de ce classifieur.</li>\n",
    "    <li>etc. Chaque dataset $DSi$ sert <b>une fois comme dataset de test</b> et <b>9 fois comme dataset d'apprentissage</b></li>\n",
    "</ol>\n",
    "    \n",
    "Au final, on obtient donc 10 valeurs d'accuracy d'apprentissage et 10 valeurs d'accuracy de test, la performance globale de l'algorithme du classifieur choisi est obtenue en donnant:\n",
    "- la moyenne des accuracies de test $\\frac{1}{10}\\sum_{i=0}^{9} accT_i$\n",
    "- l'écart type des accuracies de test $accT_0$, ..., $accT_{9}$\n",
    "\n",
    "De même, la moyenne et l'écart type des accuracies d'apprentissage peut être aussi fournie.\n",
    "\n",
    "*Remarque*: ici, comme on choisit de découper $DS$ en $10$ datasets, on parle de *validation croisée en 10 paquets* (en anglais: *10-folds cross-validation*). Dans d'autres cas, on peut choisir de réaliser un découpage avec un nombre de datasets différents. On parle alors de *validation croisée en m paquets* avec $m$ un nombre entier supérieur ou égal à 2.\n"
   ]
  },
  {
   "cell_type": "markdown",
   "metadata": {},
   "source": [
    "<font color=\"RED\" size=\"+1\">**[Q]**</font> Compléter la fonction suivante qui, étant donné un classifieur $C$, un dataset $DS$ (donné sous la forme d'un tuple (descriptions, labels)) et un entier $m$, réalise une validation croisée en $m$ paquets et rend le quadruplet composé de 2 tuples: le premier tuple donne la moyenne et l'écart type d'apprentissage, le second tuple donne la moyenne et l'écart type de test.\n",
    "\n",
    "<b>Astuce:</b> ne pas dupliquer les dataset : travailler sur des listes d'indices qui sont ensuite utilisées pour faire des extractions à partir des arrays représentant le dataset."
   ]
  },
  {
   "cell_type": "code",
   "execution_count": 3,
   "metadata": {},
   "outputs": [],
   "source": [
    "# ------------------------ A COMPLETER :\n",
    "def crossvalidation(C, DS, m=10):\n",
    "    \"\"\" Classifieur * tuple[array, array] * int -> tuple[tuple[float,float], tuple[float,float]]\n",
    "        Hypothèse: m>0\n",
    "        Par défaut, m vaut 10\n",
    "    \"\"\"\n",
    "    \n",
    "    (data_set,label_set)=DS\n",
    "    t=np.shape(data_set)[0]/m\n",
    "    dimension=np.shape(data_set)[1]\n",
    "    \n",
    "    #melange\n",
    "    label_set=label_set.reshape(np.shape(data_set)[0],1)\n",
    "    aux=np.concatenate((data_set, label_set), axis=1)\n",
    "    np.random.shuffle(aux)\n",
    "    label_set=aux[:,dimension]\n",
    "    data_set=np.delete(aux,dimension,axis=1)\n",
    "    \n",
    "    #initialise un tableau avec les DS0,DS1,..,DSm\n",
    "    tab_data=np.asarray([data_set[int(i*t):int(i*t+t)] for i in range(m)])\n",
    "    tab_label=np.asarray([label_set[int(i*t):int(i*t+t)] for i in range(m)])\n",
    "    \n",
    "    train=np.zeros(m)\n",
    "    test=np.zeros(m)\n",
    "    for i in range(m):\n",
    "        test_desc=tab_data[i]\n",
    "        test_label=tab_label[i]\n",
    "        train_desc=np.delete(tab_data,i,axis=0)\n",
    "        train_label=np.delete(tab_label,i,axis=0)\n",
    "        train_desc=train_desc.reshape(np.shape(train_desc)[1]*np.shape(train_desc)[0],np.shape(train_desc)[2])\n",
    "        train_label=train_label.reshape(np.shape(train_label)[1]*np.shape(train_label)[0],1)\n",
    "        \n",
    "        C.train(train_desc, train_label)\n",
    "        train[i]=C.accuracy(train_desc,train_label)\n",
    "        test[i]=C.accuracy(test_desc, test_label)\n",
    "\n",
    "    print(\"liste accuracies Apprentissage : \",train)\n",
    "    print(\"liste accuracies Test         : \",test)\n",
    "    \n",
    "    return ((train.mean(),np.std(train)),(test.mean(),np.std(test)))\n",
    "    #raise NotImplementedError(\"Please Implement this method\")"
   ]
  },
  {
   "cell_type": "code",
   "execution_count": 4,
   "metadata": {},
   "outputs": [
    {
     "name": "stdout",
     "output_type": "stream",
     "text": [
      "liste accuracies Apprentissage :  [1. 1. 1. 1. 1. 1. 1. 1. 1. 1.]\n",
      "liste accuracies Test         :  [1.  1.  1.  0.5 1.  0.5 1.  1.  0.5 1. ]\n",
      "(moyenne, std) pour apprentissage : (1.0, 0.0)\n",
      "(moyenne, std) pour test          : (0.85, 0.22912878474779197)\n"
     ]
    }
   ],
   "source": [
    "# Exemple d'utilisation:\n",
    "\n",
    "# Un autre exemple d'utilisation :\n",
    "knn = cl.ClassifierKNN(2,1)\n",
    "\n",
    "res_apprentissage, res_test = crossvalidation(knn, (data_desc, data_label), 10)\n",
    "\n",
    "print(\"(moyenne, std) pour apprentissage :\", res_apprentissage)\n",
    "print(\"(moyenne, std) pour test          :\", res_test)"
   ]
  },
  {
   "cell_type": "code",
   "execution_count": 5,
   "metadata": {},
   "outputs": [
    {
     "name": "stdout",
     "output_type": "stream",
     "text": [
      "Le dataset généré avec  400 lignes de  2 colonnes.\n",
      "liste accuracies Apprentissage :  [0.953125 0.953125 0.95625  0.95     0.94375 ]\n",
      "liste accuracies Test         :  [0.9    0.8875 0.925  0.925  0.925 ]\n",
      "(moyenne, std) pour apprentissage : (0.9512499999999999, 0.004238956239453313)\n",
      "(moyenne, std) pour test          : (0.9125, 0.015811388300841927)\n"
     ]
    },
    {
     "data": {
      "image/png": "[encoded data removed]",
      "text/plain": [
       "<Figure size 432x288 with 1 Axes>"
      ]
     },
     "metadata": {
      "needs_background": "light"
     },
     "output_type": "display_data"
    }
   ],
   "source": [
    "np.random.seed(42)   # supprimer cette ligne une fois la mise au point terminée\n",
    "\n",
    "# Un autre exemple d'utilisation:\n",
    "\n",
    "autre_desc, autre_label = ut.genere_dataset_gaussian(np.array([1,1]),np.array([[1,0],[0,1]]), \\\n",
    "                                                     np.array([-1,-1]),np.array([[1,0],[0,1]]),\\\n",
    "                                                     200)\n",
    "\n",
    "print(\"Le dataset généré avec \", np.shape(autre_desc)[0], \"lignes de \", np.shape(autre_desc)[1], \"colonnes.\")\n",
    "\n",
    "# Affichage :\n",
    "ut.plot2DSet(autre_desc,autre_label)\n",
    "\n",
    "# Classifieur :\n",
    "knn = cl.ClassifierKNN(2,3)\n",
    "\n",
    "res_apprentissage, res_test = crossvalidation(knn, (autre_desc, autre_label), 5)\n",
    "\n",
    "print(\"(moyenne, std) pour apprentissage :\", res_apprentissage)\n",
    "print(\"(moyenne, std) pour test          :\", res_test)"
   ]
  },
  {
   "cell_type": "markdown",
   "metadata": {},
   "source": [
    "Lorsqu'on compare plusieurs classifieurs, il est intéressant de mesurer leurs performances par une validation croisée, et idéalement, réalisée avec les mêmes datasets.\n",
    "\n",
    "<font color=\"RED\" size=\"+1\">**[Q]**</font> Réécrire la fonction précédente pour qu'elle prenne en argument non pas un seul classifieur, mais une liste de classifieurs et qu'elle renvoie la liste des quadruplets résultats correspondante.\n",
    "\n",
    "*Attention*: il ne s'agit pas d'écrire une fonction qui appelle la fonction précédente, **il faut la réécrire**.\n",
    "\n",
    "#### Remarque:\n",
    "pour certains classifieurs, il peut être nécessaire de réinitialiser le classifieur avant de lancer un nouvel apprentissage avec un nouveau dataset. \n",
    "\n",
    "Une façon élégante de faire cela est de définir une nouvelle méthode dans la classe `Classifier` qui permet de réinitiliser le classifieur, on appelle `reset` cette méthode qui, par défaut, ne fera rien (instruction `pass` de python).\n",
    "\n",
    "Rajouter la méthode suivante dans votre classe `Classifier` du fichier `Classifier.py`:\n",
    "\n",
    "    def reset(self):\n",
    "        \"\"\" réinitialise le classifieur si nécessaire avant un nouvel apprentissage\n",
    "        \"\"\"\n",
    "        # en général, cette méthode ne fait rien :\n",
    "        pass\n",
    "        # dans le cas contraire, on la redéfinit dans le classifier concerné\n",
    "        \n",
    "Cette méthode est appelable par toute instance d'une classe héritant de `Classifier`.\n",
    "\n",
    "Des classifieurs que l'on a implémentés jusqu'à présent, seul le `ClassifierPerceptron` est concerné par une réinitialisation:\n",
    "- le vecteur de poids initiaux `self.w` est tiré aléatoirement à la création du classifieur. Le mieux est donc de générer ce vecteur dans le constructeur du perceptron. Afin de pouvoir retrouver les valeurs initiales de ce vecteur, il faut donc aussi, dans le constructeur, initialiser une autre variable de la classe que l'on peut appeler `self.w_init` et qui sauvegarde donc ces valeurs initiales de `self.w`;\n",
    "- dans la méthode `reset` que l'on redéfinie dans le perceptron, on remet dans `self.w` les valeurs contenues dans `self.w_init`:\n",
    "\n",
    "        def reset(self):\n",
    "            \"\"\" réinitialise le classifieur si nécessaire avant un nouvel apprentissage\n",
    "            \"\"\"\n",
    "            # les poids sont remis à leur valeurs initiales:\n",
    "            self.w = self.w_init\n",
    "\n",
    "\n",
    "Avant de réécrire la méthode `crossvalidation`, modifier les classes du fichier `Classifiers.py` afin de prendre en compte cette modification.\n",
    "\n",
    "\n",
    "#### Pour être complet:\n",
    "Rajouter dans chaque classe de la hiérarchie `Classifier` une méthode `toString` pour obtenir, sous forme de chaîne de caractère, les informations sur le classifieur, cette méthode est spécifiée par:\n",
    "\n",
    "        def toString(self):\n",
    "            \"\"\"  -> str\n",
    "                rend le nom du classifieur avec ses paramètres\n",
    "            \"\"\"\n"
   ]
  },
  {
   "cell_type": "code",
   "execution_count": 2,
   "metadata": {},
   "outputs": [
    {
     "name": "stdout",
     "output_type": "stream",
     "text": [
      "Classifier KNN   [2]\tk=1\n",
      "Classifier KNN   [2]\tk=3\n",
      "Classifier Perceptron   [2]\trate=0.01w=[ 0.0096346  -0.00191179]\n"
     ]
    }
   ],
   "source": [
    "\n",
    "Liste_Classifiers = []\n",
    "Liste_Classifiers.append(cl.ClassifierKNN(2,1))\n",
    "Liste_Classifiers.append(cl.ClassifierKNN(2,3))\n",
    "Liste_Classifiers.append(cl.ClassifierPerceptron(2,0.01))\n",
    "\n",
    "\n",
    "for k in range(0,3):\n",
    "    print(Liste_Classifiers[k].toString())"
   ]
  },
  {
   "cell_type": "code",
   "execution_count": 47,
   "metadata": {},
   "outputs": [],
   "source": [
    "# ------------------------ A COMPLETER :\n",
    "def crossvalidation(LC, DS, m):\n",
    "    \"\"\" List[Classifieur] * tuple[array, array] * int ->  List[tuple[tuple[float,float], tuple[float,float]]]\n",
    "        Hypothèse: m>0\n",
    "        Par défaut, m vaut 10\n",
    "    \"\"\"\n",
    "    print(\"Il y a \", len(LC), \"classifieurs à comparer.\")\n",
    "    \n",
    "    t_all=np.zeros((len(LC),2,2))\n",
    "    \n",
    "    for c in range(len(LC)):\n",
    "    \n",
    "        (data_set,label_set)=DS\n",
    "        t=np.shape(data_set)[0]/m\n",
    "        dimension=np.shape(data_set)[1]\n",
    "        C=LC[c]\n",
    "\n",
    "        #melange\n",
    "        label_set=label_set.reshape(np.shape(data_set)[0],1)\n",
    "        aux=np.concatenate((data_set, label_set), axis=1)\n",
    "        np.random.shuffle(aux)\n",
    "        label_set=aux[:,dimension]\n",
    "        data_set=np.delete(aux,dimension,axis=1)\n",
    "\n",
    "        #initialise un tableau avec les DS0,DS1,..,DSm\n",
    "        tab_data=np.asarray([data_set[int(i*t):int(i*t+t)] for i in range(m)])\n",
    "        tab_label=np.asarray([label_set[int(i*t):int(i*t+t)] for i in range(m)])\n",
    "\n",
    "        train=np.zeros(m)\n",
    "        test=np.zeros(m)\n",
    "        for i in range(m):\n",
    "            test_desc=tab_data[i]\n",
    "            test_label=tab_label[i]\n",
    "            train_desc=np.delete(tab_data,i,axis=0)\n",
    "            train_label=np.delete(tab_label,i,axis=0)\n",
    "            train_desc=train_desc.reshape(np.shape(train_desc)[1]*np.shape(train_desc)[0],np.shape(train_desc)[2])\n",
    "            train_label=train_label.reshape(np.shape(train_label)[1]*np.shape(train_label)[0],1)\n",
    "            C.reset()\n",
    "            C.train(train_desc, train_label)\n",
    "            train[i]=C.accuracy(train_desc,train_label)\n",
    "            test[i]=C.accuracy(test_desc, test_label)\n",
    "        tr=(train.mean(),np.std(train))\n",
    "        te=(test.mean(),np.std(test))\n",
    "        t_all[c][0]=tr\n",
    "        t_all[c][1]=te\n",
    "        print(\" [Debug] liste accuracies Apprentissage : \",train)\n",
    "        print(\" [Debug] liste accuracies Test         : \",test)\n",
    "    return t_all\n",
    "    \n",
    "    raise NotImplementedError(\"Please Implement this method\")\n"
   ]
  },
  {
   "cell_type": "code",
   "execution_count": 48,
   "metadata": {},
   "outputs": [
    {
     "name": "stdout",
     "output_type": "stream",
     "text": [
      "Il y a  3 classifieurs à comparer.\n",
      " [Debug] liste accuracies Apprentissage :  [1. 1. 1. 1. 1. 1. 1. 1. 1. 1.]\n",
      " [Debug] liste accuracies Test         :  [0.95  0.875 0.925 0.875 1.    0.925 0.825 0.825 0.925 0.9  ]\n",
      " [Debug] liste accuracies Apprentissage :  [0.94722222 0.95       0.94722222 0.95277778 0.95833333 0.95833333\n",
      " 0.95555556 0.95277778 0.95555556 0.95555556]\n",
      " [Debug] liste accuracies Test         :  [0.925 0.975 0.925 0.975 0.925 0.875 0.925 0.825 0.925 0.9  ]\n",
      " [Debug] liste accuracies Apprentissage :  [0.91388889 0.93055556 0.93333333 0.90833333 0.91944444 0.91944444\n",
      " 0.84444444 0.91944444 0.91944444 0.90277778]\n",
      " [Debug] liste accuracies Test         :  [0.975 0.85  0.9   0.925 0.925 0.925 0.9   0.9   0.875 0.95 ]\n",
      "\n",
      "*****\n",
      "Affichage des résultats:\n",
      "Classifieur  Classifier KNN   [2]\tk=1\n",
      "\t(moyenne, std) pour apprentissage : [1. 0.]\n",
      "\t(moyenne, std) pour test          : [0.9025     0.05178079]\n",
      "Classifieur  Classifier KNN   [2]\tk=3\n",
      "\t(moyenne, std) pour apprentissage : [0.95333333 0.00388889]\n",
      "\t(moyenne, std) pour test          : [0.9175     0.04190764]\n",
      "Classifieur  Classifier Perceptron   [2]\trate=0.01w=[0.00875086 0.02582632]\n",
      "\t(moyenne, std) pour apprentissage : [0.91111111 0.02383068]\n",
      "\t(moyenne, std) pour test          : [0.9125     0.03400368]\n"
     ]
    }
   ],
   "source": [
    "# Exemple d'utilisation:\n",
    "\n",
    "# Un autre exemple d'utilisation :\n",
    "Liste_Classifiers = []\n",
    "Liste_Classifiers.append(cl.ClassifierKNN(2,1))\n",
    "Liste_Classifiers.append(cl.ClassifierKNN(2,3))\n",
    "\n",
    "Liste_Classifiers.append(cl.ClassifierPerceptron(2,0.01))\n",
    "\n",
    "Resultats = crossvalidation(Liste_Classifiers, (autre_desc, autre_label), 10)\n",
    "\n",
    "print(\"\\n*****\\nAffichage des résultats:\")\n",
    "for k in range(0,len(Resultats)):\n",
    "    print(\"Classifieur \", Liste_Classifiers[k].toString())\n",
    "    print(\"\\t(moyenne, std) pour apprentissage :\", Resultats[k][0])\n",
    "    print(\"\\t(moyenne, std) pour test          :\", Resultats[k][1])\n"
   ]
  },
  {
   "cell_type": "markdown",
   "metadata": {},
   "source": [
    "<font color=\"RED\" size=\"+1\">**[Q]**</font> A l'aide d'une validation croisée en 10 paquets réalisée sur un dataset généré aléatoirement, donner les performances (accuracy moyenne et écart type) de tous les classifieurs implémentés depuis le TME 2."
   ]
  },
  {
   "cell_type": "code",
   "execution_count": null,
   "metadata": {},
   "outputs": [],
   "source": [
    "# ------------------------ A COMPLETER :\n"
   ]
  },
  {
   "cell_type": "markdown",
   "metadata": {},
   "source": [
    "### Expérimentations de  classifieurs sur des données réelles\n",
    "\n",
    "Téléchargez des données réelles (voir les TME précédents) et réalisez un ensemble d'expérimentations permettant de comparer les classifieurs que vous avez implémentés depuis le TME 2. \n",
    "Comparez-les en termes d'accuracy, de temps d'exécution,...\n",
    "Attention, il est donc nécessaire dans cette partie d'inclure des boîtes de code python pour faire les tests mais aussi des boîtes de texte, pour expliquer l'objectif des expériences, ainsi que d'autres boîtes pour commenter les résultats obtenus."
   ]
  },
  {
   "cell_type": "markdown",
   "metadata": {},
   "source": [
    "## Visualisation des données\n",
    "\n",
    "Lorsque les données sur lesquelles on travaille possèdent plus de 2 dimensions, il n'est pas facile de les visualiser simplement comme on a pu le faire dans les séances précédentes en utilisant un plot.\n",
    "\n",
    "Une façon de mieux visualiser ces données peut être d'utiliser les outils d'un package de visualisation.\n",
    "\n",
    "Le package <code>seaborn</code> est très pratique (vous pouvez consulter la documentation sur le web) et généralement installé dans l'environnement Python."
   ]
  },
  {
   "cell_type": "code",
   "execution_count": 49,
   "metadata": {},
   "outputs": [],
   "source": [
    "# Importation du package seaborn:\n",
    "import seaborn as sns"
   ]
  },
  {
   "cell_type": "markdown",
   "metadata": {},
   "source": [
    "Pour travailler avec `seaborn`, on a besoin de mettre le dataset dans un `DataFrame` pandas :"
   ]
  },
  {
   "cell_type": "code",
   "execution_count": 86,
   "metadata": {},
   "outputs": [
    {
     "name": "stdout",
     "output_type": "stream",
     "text": [
      "(400, 2)\n"
     ]
    },
    {
     "data": {
      "text/html": [
       "<div>\n",
       "<style scoped>\n",
       "    .dataframe tbody tr th:only-of-type {\n",
       "        vertical-align: middle;\n",
       "    }\n",
       "\n",
       "    .dataframe tbody tr th {\n",
       "        vertical-align: top;\n",
       "    }\n",
       "\n",
       "    .dataframe thead th {\n",
       "        text-align: right;\n",
       "    }\n",
       "</style>\n",
       "<table border=\"1\" class=\"dataframe\">\n",
       "  <thead>\n",
       "    <tr style=\"text-align: right;\">\n",
       "      <th></th>\n",
       "      <th>X</th>\n",
       "      <th>Y</th>\n",
       "      <th>label</th>\n",
       "    </tr>\n",
       "  </thead>\n",
       "  <tbody>\n",
       "    <tr>\n",
       "      <th>0</th>\n",
       "      <td>1.496714</td>\n",
       "      <td>0.861736</td>\n",
       "      <td>1</td>\n",
       "    </tr>\n",
       "    <tr>\n",
       "      <th>1</th>\n",
       "      <td>1.647689</td>\n",
       "      <td>2.523030</td>\n",
       "      <td>1</td>\n",
       "    </tr>\n",
       "    <tr>\n",
       "      <th>2</th>\n",
       "      <td>0.765847</td>\n",
       "      <td>0.765863</td>\n",
       "      <td>1</td>\n",
       "    </tr>\n",
       "    <tr>\n",
       "      <th>3</th>\n",
       "      <td>2.579213</td>\n",
       "      <td>1.767435</td>\n",
       "      <td>1</td>\n",
       "    </tr>\n",
       "    <tr>\n",
       "      <th>4</th>\n",
       "      <td>0.530526</td>\n",
       "      <td>1.542560</td>\n",
       "      <td>1</td>\n",
       "    </tr>\n",
       "    <tr>\n",
       "      <th>...</th>\n",
       "      <td>...</td>\n",
       "      <td>...</td>\n",
       "      <td>...</td>\n",
       "    </tr>\n",
       "    <tr>\n",
       "      <th>395</th>\n",
       "      <td>-0.570382</td>\n",
       "      <td>-0.792312</td>\n",
       "      <td>-1</td>\n",
       "    </tr>\n",
       "    <tr>\n",
       "      <th>396</th>\n",
       "      <td>-0.728421</td>\n",
       "      <td>-2.276749</td>\n",
       "      <td>-1</td>\n",
       "    </tr>\n",
       "    <tr>\n",
       "      <th>397</th>\n",
       "      <td>-2.081057</td>\n",
       "      <td>0.053153</td>\n",
       "      <td>-1</td>\n",
       "    </tr>\n",
       "    <tr>\n",
       "      <th>398</th>\n",
       "      <td>-1.039555</td>\n",
       "      <td>-0.318499</td>\n",
       "      <td>-1</td>\n",
       "    </tr>\n",
       "    <tr>\n",
       "      <th>399</th>\n",
       "      <td>-0.971682</td>\n",
       "      <td>-0.970244</td>\n",
       "      <td>-1</td>\n",
       "    </tr>\n",
       "  </tbody>\n",
       "</table>\n",
       "<p>400 rows × 3 columns</p>\n",
       "</div>"
      ],
      "text/plain": [
       "            X         Y  label\n",
       "0    1.496714  0.861736      1\n",
       "1    1.647689  2.523030      1\n",
       "2    0.765847  0.765863      1\n",
       "3    2.579213  1.767435      1\n",
       "4    0.530526  1.542560      1\n",
       "..        ...       ...    ...\n",
       "395 -0.570382 -0.792312     -1\n",
       "396 -0.728421 -2.276749     -1\n",
       "397 -2.081057  0.053153     -1\n",
       "398 -1.039555 -0.318499     -1\n",
       "399 -0.971682 -0.970244     -1\n",
       "\n",
       "[400 rows x 3 columns]"
      ]
     },
     "execution_count": 86,
     "metadata": {},
     "output_type": "execute_result"
    }
   ],
   "source": [
    "# On commence par créer un dataframe avec les descriptions :\n",
    "df = pd.DataFrame(autre_desc, columns= [\"X\", \"Y\"])\n",
    "# puis on rajoute au dataframe une nouvelle colonne contenant les labels de chaque exemple :\n",
    "df['label'] = autre_label\n",
    "\n",
    "# Affichage du dataframe obtenu:\n",
    "df"
   ]
  },
  {
   "cell_type": "markdown",
   "metadata": {},
   "source": [
    "On utilise ici la fonction <code>pairplot</code> du package `seaborn` pour construire un corrélogramme qui affiche les corrélations des dimensions prises 2 à 2."
   ]
  },
  {
   "cell_type": "code",
   "execution_count": 51,
   "metadata": {},
   "outputs": [
    {
     "data": {
      "text/plain": [
       "<seaborn.axisgrid.PairGrid at 0x11a2bb450>"
      ]
     },
     "execution_count": 51,
     "metadata": {},
     "output_type": "execute_result"
    },
    {
     "data": {
      "image/png": "[encoded data removed]",
      "text/plain": [
       "<Figure size 540x540 with 12 Axes>"
      ]
     },
     "metadata": {
      "needs_background": "light"
     },
     "output_type": "display_data"
    }
   ],
   "source": [
    "sns.pairplot(df)\n",
    "\n",
    "# Eventuellement, mais pas nécessairement utile:\n",
    "#sns.plt.show()"
   ]
  },
  {
   "cell_type": "markdown",
   "metadata": {},
   "source": [
    "<font color=\"RED\" size=\"+1\">**[Q]**</font> Ecrire la fonction `cree_dataframe()` qui, étant donné un dataset (un tuple contenant un array avec les description et un array avec les labels correspondant) et une liste de chaîne de caractères donnant les noms des variables correspondant à chaque colonne de la description, ainsi qu'une chaîne de caractères donnant le nom pour la colonne label à donner dans le dataframe créé (ce dernier argument étant optionnel et mis à la chaîne \"label\" par défaut), rend le dataframe correspondant."
   ]
  },
  {
   "cell_type": "code",
   "execution_count": 93,
   "metadata": {},
   "outputs": [],
   "source": [
    "# ------------------------ A COMPLETER :\n",
    "def cree_dataframe(DS, L_noms, Nom_label = \"label\"):\n",
    "    \"\"\" Dataset * List[str] * Str -> DataFrame\n",
    "        Hypothèse: la liste a autant de chaînes que la description a de colonnes\n",
    "    \"\"\"\n",
    "    \n",
    "    df = pd.DataFrame()\n",
    "    for i in range(len(L_noms)):\n",
    "        df[L_noms[i]]=DS[0][:,i]\n",
    "    df[Nom_label] = DS[1]\n",
    "\n",
    "    return df\n",
    "    raise NotImplementedError(\"Please Implement this method\")\n"
   ]
  },
  {
   "cell_type": "code",
   "execution_count": 94,
   "metadata": {},
   "outputs": [
    {
     "data": {
      "text/html": [
       "<div>\n",
       "<style scoped>\n",
       "    .dataframe tbody tr th:only-of-type {\n",
       "        vertical-align: middle;\n",
       "    }\n",
       "\n",
       "    .dataframe tbody tr th {\n",
       "        vertical-align: top;\n",
       "    }\n",
       "\n",
       "    .dataframe thead th {\n",
       "        text-align: right;\n",
       "    }\n",
       "</style>\n",
       "<table border=\"1\" class=\"dataframe\">\n",
       "  <thead>\n",
       "    <tr style=\"text-align: right;\">\n",
       "      <th></th>\n",
       "      <th>X</th>\n",
       "      <th>Y</th>\n",
       "      <th>label</th>\n",
       "    </tr>\n",
       "  </thead>\n",
       "  <tbody>\n",
       "    <tr>\n",
       "      <th>0</th>\n",
       "      <td>1.496714</td>\n",
       "      <td>0.861736</td>\n",
       "      <td>1</td>\n",
       "    </tr>\n",
       "    <tr>\n",
       "      <th>1</th>\n",
       "      <td>1.647689</td>\n",
       "      <td>2.523030</td>\n",
       "      <td>1</td>\n",
       "    </tr>\n",
       "    <tr>\n",
       "      <th>2</th>\n",
       "      <td>0.765847</td>\n",
       "      <td>0.765863</td>\n",
       "      <td>1</td>\n",
       "    </tr>\n",
       "    <tr>\n",
       "      <th>3</th>\n",
       "      <td>2.579213</td>\n",
       "      <td>1.767435</td>\n",
       "      <td>1</td>\n",
       "    </tr>\n",
       "    <tr>\n",
       "      <th>4</th>\n",
       "      <td>0.530526</td>\n",
       "      <td>1.542560</td>\n",
       "      <td>1</td>\n",
       "    </tr>\n",
       "    <tr>\n",
       "      <th>...</th>\n",
       "      <td>...</td>\n",
       "      <td>...</td>\n",
       "      <td>...</td>\n",
       "    </tr>\n",
       "    <tr>\n",
       "      <th>395</th>\n",
       "      <td>-0.570382</td>\n",
       "      <td>-0.792312</td>\n",
       "      <td>-1</td>\n",
       "    </tr>\n",
       "    <tr>\n",
       "      <th>396</th>\n",
       "      <td>-0.728421</td>\n",
       "      <td>-2.276749</td>\n",
       "      <td>-1</td>\n",
       "    </tr>\n",
       "    <tr>\n",
       "      <th>397</th>\n",
       "      <td>-2.081057</td>\n",
       "      <td>0.053153</td>\n",
       "      <td>-1</td>\n",
       "    </tr>\n",
       "    <tr>\n",
       "      <th>398</th>\n",
       "      <td>-1.039555</td>\n",
       "      <td>-0.318499</td>\n",
       "      <td>-1</td>\n",
       "    </tr>\n",
       "    <tr>\n",
       "      <th>399</th>\n",
       "      <td>-0.971682</td>\n",
       "      <td>-0.970244</td>\n",
       "      <td>-1</td>\n",
       "    </tr>\n",
       "  </tbody>\n",
       "</table>\n",
       "<p>400 rows × 3 columns</p>\n",
       "</div>"
      ],
      "text/plain": [
       "            X         Y  label\n",
       "0    1.496714  0.861736      1\n",
       "1    1.647689  2.523030      1\n",
       "2    0.765847  0.765863      1\n",
       "3    2.579213  1.767435      1\n",
       "4    0.530526  1.542560      1\n",
       "..        ...       ...    ...\n",
       "395 -0.570382 -0.792312     -1\n",
       "396 -0.728421 -2.276749     -1\n",
       "397 -2.081057  0.053153     -1\n",
       "398 -1.039555 -0.318499     -1\n",
       "399 -0.971682 -0.970244     -1\n",
       "\n",
       "[400 rows x 3 columns]"
      ]
     },
     "execution_count": 94,
     "metadata": {},
     "output_type": "execute_result"
    }
   ],
   "source": [
    "cree_dataframe((autre_desc,autre_label),[\"X\", \"Y\"])"
   ]
  },
  {
   "cell_type": "code",
   "execution_count": 95,
   "metadata": {},
   "outputs": [
    {
     "data": {
      "text/html": [
       "<div>\n",
       "<style scoped>\n",
       "    .dataframe tbody tr th:only-of-type {\n",
       "        vertical-align: middle;\n",
       "    }\n",
       "\n",
       "    .dataframe tbody tr th {\n",
       "        vertical-align: top;\n",
       "    }\n",
       "\n",
       "    .dataframe thead th {\n",
       "        text-align: right;\n",
       "    }\n",
       "</style>\n",
       "<table border=\"1\" class=\"dataframe\">\n",
       "  <thead>\n",
       "    <tr style=\"text-align: right;\">\n",
       "      <th></th>\n",
       "      <th>Abscisse</th>\n",
       "      <th>Ordonnée</th>\n",
       "      <th>classe</th>\n",
       "    </tr>\n",
       "  </thead>\n",
       "  <tbody>\n",
       "    <tr>\n",
       "      <th>0</th>\n",
       "      <td>1.496714</td>\n",
       "      <td>0.861736</td>\n",
       "      <td>1</td>\n",
       "    </tr>\n",
       "    <tr>\n",
       "      <th>1</th>\n",
       "      <td>1.647689</td>\n",
       "      <td>2.523030</td>\n",
       "      <td>1</td>\n",
       "    </tr>\n",
       "    <tr>\n",
       "      <th>2</th>\n",
       "      <td>0.765847</td>\n",
       "      <td>0.765863</td>\n",
       "      <td>1</td>\n",
       "    </tr>\n",
       "    <tr>\n",
       "      <th>3</th>\n",
       "      <td>2.579213</td>\n",
       "      <td>1.767435</td>\n",
       "      <td>1</td>\n",
       "    </tr>\n",
       "    <tr>\n",
       "      <th>4</th>\n",
       "      <td>0.530526</td>\n",
       "      <td>1.542560</td>\n",
       "      <td>1</td>\n",
       "    </tr>\n",
       "    <tr>\n",
       "      <th>5</th>\n",
       "      <td>0.536582</td>\n",
       "      <td>0.534270</td>\n",
       "      <td>1</td>\n",
       "    </tr>\n",
       "    <tr>\n",
       "      <th>6</th>\n",
       "      <td>1.241962</td>\n",
       "      <td>-0.913280</td>\n",
       "      <td>1</td>\n",
       "    </tr>\n",
       "    <tr>\n",
       "      <th>7</th>\n",
       "      <td>-0.724918</td>\n",
       "      <td>0.437712</td>\n",
       "      <td>1</td>\n",
       "    </tr>\n",
       "    <tr>\n",
       "      <th>8</th>\n",
       "      <td>-0.012831</td>\n",
       "      <td>1.314247</td>\n",
       "      <td>1</td>\n",
       "    </tr>\n",
       "    <tr>\n",
       "      <th>9</th>\n",
       "      <td>0.091976</td>\n",
       "      <td>-0.412304</td>\n",
       "      <td>1</td>\n",
       "    </tr>\n",
       "    <tr>\n",
       "      <th>10</th>\n",
       "      <td>0.465649</td>\n",
       "      <td>-1.225776</td>\n",
       "      <td>-1</td>\n",
       "    </tr>\n",
       "    <tr>\n",
       "      <th>11</th>\n",
       "      <td>-0.932472</td>\n",
       "      <td>-2.424748</td>\n",
       "      <td>-1</td>\n",
       "    </tr>\n",
       "    <tr>\n",
       "      <th>12</th>\n",
       "      <td>-1.544383</td>\n",
       "      <td>-0.889077</td>\n",
       "      <td>-1</td>\n",
       "    </tr>\n",
       "    <tr>\n",
       "      <th>13</th>\n",
       "      <td>-2.150994</td>\n",
       "      <td>-0.624302</td>\n",
       "      <td>-1</td>\n",
       "    </tr>\n",
       "    <tr>\n",
       "      <th>14</th>\n",
       "      <td>-1.600639</td>\n",
       "      <td>-1.291694</td>\n",
       "      <td>-1</td>\n",
       "    </tr>\n",
       "    <tr>\n",
       "      <th>15</th>\n",
       "      <td>-1.601707</td>\n",
       "      <td>0.852278</td>\n",
       "      <td>-1</td>\n",
       "    </tr>\n",
       "    <tr>\n",
       "      <th>16</th>\n",
       "      <td>-1.013497</td>\n",
       "      <td>-2.057711</td>\n",
       "      <td>-1</td>\n",
       "    </tr>\n",
       "    <tr>\n",
       "      <th>17</th>\n",
       "      <td>-0.177455</td>\n",
       "      <td>-2.220844</td>\n",
       "      <td>-1</td>\n",
       "    </tr>\n",
       "    <tr>\n",
       "      <th>18</th>\n",
       "      <td>-0.791136</td>\n",
       "      <td>-2.959670</td>\n",
       "      <td>-1</td>\n",
       "    </tr>\n",
       "    <tr>\n",
       "      <th>19</th>\n",
       "      <td>-2.328186</td>\n",
       "      <td>-0.803139</td>\n",
       "      <td>-1</td>\n",
       "    </tr>\n",
       "  </tbody>\n",
       "</table>\n",
       "</div>"
      ],
      "text/plain": [
       "    Abscisse  Ordonnée  classe\n",
       "0   1.496714  0.861736       1\n",
       "1   1.647689  2.523030       1\n",
       "2   0.765847  0.765863       1\n",
       "3   2.579213  1.767435       1\n",
       "4   0.530526  1.542560       1\n",
       "5   0.536582  0.534270       1\n",
       "6   1.241962 -0.913280       1\n",
       "7  -0.724918  0.437712       1\n",
       "8  -0.012831  1.314247       1\n",
       "9   0.091976 -0.412304       1\n",
       "10  0.465649 -1.225776      -1\n",
       "11 -0.932472 -2.424748      -1\n",
       "12 -1.544383 -0.889077      -1\n",
       "13 -2.150994 -0.624302      -1\n",
       "14 -1.600639 -1.291694      -1\n",
       "15 -1.601707  0.852278      -1\n",
       "16 -1.013497 -2.057711      -1\n",
       "17 -0.177455 -2.220844      -1\n",
       "18 -0.791136 -2.959670      -1\n",
       "19 -2.328186 -0.803139      -1"
      ]
     },
     "execution_count": 95,
     "metadata": {},
     "output_type": "execute_result"
    }
   ],
   "source": [
    "df_data = cree_dataframe((data_desc,data_label),[\"Abscisse\", \"Ordonnée\"], 'classe')\n",
    "df_data"
   ]
  },
  {
   "cell_type": "code",
   "execution_count": 96,
   "metadata": {},
   "outputs": [
    {
     "data": {
      "text/plain": [
       "<seaborn.axisgrid.PairGrid at 0x1a1d18f810>"
      ]
     },
     "execution_count": 96,
     "metadata": {},
     "output_type": "execute_result"
    },
    {
     "data": {
      "image/png": "[encoded data removed]",
      "text/plain": [
       "<Figure size 540x540 with 12 Axes>"
      ]
     },
     "metadata": {
      "needs_background": "light"
     },
     "output_type": "display_data"
    }
   ],
   "source": [
    "sns.pairplot(df_data)"
   ]
  },
  {
   "cell_type": "markdown",
   "metadata": {},
   "source": [
    "Un autre exemple, qui utilise un dataset classique en apprentissage: le dataset des iris de Fisher  (voir par exemple : https://fr.wikipedia.org/wiki/Iris_de_Fisher) dont les exemples sont décrits par 4 variables et sont associés à l'une des 3 classes possibles ('setosa', 'virginica' et 'versicolor')."
   ]
  },
  {
   "cell_type": "code",
   "execution_count": 15,
   "metadata": {},
   "outputs": [
    {
     "data": {
      "text/plain": [
       "<seaborn.axisgrid.PairGrid at 0x7f626d7f23d0>"
      ]
     },
     "execution_count": 15,
     "metadata": {},
     "output_type": "execute_result"
    },
    {
     "data": {
      "image/png": "[encoded data removed]",
      "text/plain": [
       "<Figure size 720x720 with 20 Axes>"
      ]
     },
     "metadata": {
      "needs_background": "light"
     },
     "output_type": "display_data"
    }
   ],
   "source": [
    "# Le dataset des iris est fourni dans le package seaborn, on l'obtient ainsi:\n",
    "df_iris = sns.load_dataset('iris')\n",
    "\n",
    "# On peut alors construire le corrélogramme de ce dataset:\n",
    "sns.pairplot(df_iris)"
   ]
  },
  {
   "cell_type": "code",
   "execution_count": 16,
   "metadata": {},
   "outputs": [
    {
     "data": {
      "text/plain": [
       "0         setosa\n",
       "1         setosa\n",
       "2         setosa\n",
       "3         setosa\n",
       "4         setosa\n",
       "         ...    \n",
       "145    virginica\n",
       "146    virginica\n",
       "147    virginica\n",
       "148    virginica\n",
       "149    virginica\n",
       "Name: species, Length: 150, dtype: object"
      ]
     },
     "execution_count": 16,
     "metadata": {},
     "output_type": "execute_result"
    }
   ],
   "source": [
    "df_iris['species']"
   ]
  },
  {
   "cell_type": "markdown",
   "metadata": {},
   "source": [
    "<font color=\"RED\" size=\"+1\">**[Q]**</font> Utiliser le package `seaborn` ainsi que les fonctions statistiques vues lors du TME 1 pour afficher tout un ensemble de résultats permettant d'analyser la base des Iris de Fisher. "
   ]
  },
  {
   "cell_type": "markdown",
   "metadata": {},
   "source": [
    "<font color=\"RED\" size=\"+1\">**[Q]**</font> Afin de pouvoir utiliser les classifieurs sur la base des Iris, il est nécessaire de l'adapter : ce dataset contient 3 classes (qui sont des chaînes) alors que les classifieurs implémentés précédemment sont binaires (et travaillent sur les labels -1 et +1).\n",
    "Le moyen le plus simple est de réaliser un apprentissage **one vs all** :\n",
    "- choisir une classe et lui donner le label +1\n",
    "- toutes les autres classes sont alors associées au label -1\n",
    "\n",
    "Mettre au point une série d'expérimentation pour tester les algorithmes sur la base des iris en utilisant ce codage. Tester en particulier s'ils sont sensibles aux bases de données déséquilibrées (dans lesquelles une classe est plus présente que les autres) et si c'est le cas adapter le cadre **one vs all** en sous-échantillonnant les \"all\" pour en prendre autant d'exemple d'apprentissage que les \"one\", faire de même pour les données de test."
   ]
  },
  {
   "cell_type": "code",
   "execution_count": null,
   "metadata": {},
   "outputs": [],
   "source": []
  }
 ],
 "metadata": {
  "kernelspec": {
   "display_name": "Python 3",
   "language": "python",
   "name": "python3"
  },
  "language_info": {
   "codemirror_mode": {
    "name": "ipython",
    "version": 3
   },
   "file_extension": ".py",
   "mimetype": "text/x-python",
   "name": "python",
   "nbconvert_exporter": "python",
   "pygments_lexer": "ipython3",
   "version": "3.7.6"
  }
 },
 "nbformat": 4,
 "nbformat_minor": 1
}
